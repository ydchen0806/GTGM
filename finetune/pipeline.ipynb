{
 "cells": [
  {
   "cell_type": "code",
   "execution_count": 1,
   "metadata": {},
   "outputs": [
    {
     "name": "stderr",
     "output_type": "stream",
     "text": [
      "2023-04-19 04:55:22.615271: I tensorflow/core/platform/cpu_feature_guard.cc:193] This TensorFlow binary is optimized with oneAPI Deep Neural Network Library (oneDNN) to use the following CPU instructions in performance-critical operations:  AVX2 AVX512F FMA\n",
      "To enable them in other operations, rebuild TensorFlow with the appropriate compiler flags.\n",
      "2023-04-19 04:55:23.709579: W tensorflow/compiler/xla/stream_executor/platform/default/dso_loader.cc:64] Could not load dynamic library 'libnvinfer.so.7'; dlerror: libnvinfer.so.7: cannot open shared object file: No such file or directory; LD_LIBRARY_PATH: /usr/local/nvidia/lib:/usr/local/nvidia/lib64\n",
      "2023-04-19 04:55:23.709687: W tensorflow/compiler/xla/stream_executor/platform/default/dso_loader.cc:64] Could not load dynamic library 'libnvinfer_plugin.so.7'; dlerror: libnvinfer_plugin.so.7: cannot open shared object file: No such file or directory; LD_LIBRARY_PATH: /usr/local/nvidia/lib:/usr/local/nvidia/lib64\n",
      "2023-04-19 04:55:23.709699: W tensorflow/compiler/tf2tensorrt/utils/py_utils.cc:38] TF-TRT Warning: Cannot dlopen some TensorRT libraries. If you would like to use Nvidia GPU with TensorRT, please make sure the missing libraries mentioned above are installed properly.\n"
     ]
    },
    {
     "name": "stdout",
     "output_type": "stream",
     "text": [
      "MONAI version: 1.1.0\n",
      "Numpy version: 1.21.5\n",
      "Pytorch version: 1.12.0\n",
      "MONAI flags: HAS_EXT = False, USE_COMPILED = False, USE_META_DICT = False\n",
      "MONAI rev id: a2ec3752f54bfc3b40e7952234fbeb5452ed63e3\n",
      "MONAI __file__: /opt/conda/lib/python3.7/site-packages/monai/__init__.py\n",
      "\n",
      "Optional dependencies:\n",
      "Pytorch Ignite version: NOT INSTALLED or UNKNOWN VERSION.\n",
      "Nibabel version: 4.0.2\n",
      "scikit-image version: 0.19.3\n",
      "Pillow version: 9.3.0\n",
      "Tensorboard version: 2.11.2\n",
      "gdown version: 4.6.0\n",
      "TorchVision version: 0.13.0\n",
      "tqdm version: 4.64.1\n",
      "lmdb version: NOT INSTALLED or UNKNOWN VERSION.\n",
      "psutil version: 5.9.0\n",
      "pandas version: 1.3.5\n",
      "einops version: 0.6.0\n",
      "transformers version: 4.26.1\n",
      "mlflow version: NOT INSTALLED or UNKNOWN VERSION.\n",
      "pynrrd version: NOT INSTALLED or UNKNOWN VERSION.\n",
      "\n",
      "For details about installing the optional dependencies, please visit:\n",
      "    https://docs.monai.io/en/latest/installation.html#installing-the-recommended-dependencies\n",
      "\n"
     ]
    }
   ],
   "source": [
    "import os\n",
    "import shutil\n",
    "import tempfile\n",
    "\n",
    "import matplotlib.pyplot as plt\n",
    "from tqdm import tqdm\n",
    "\n",
    "from monai.losses import DiceCELoss\n",
    "from monai.inferers import sliding_window_inference\n",
    "from monai.transforms import (\n",
    "    AsDiscrete,\n",
    "    EnsureChannelFirstd,\n",
    "    Compose,\n",
    "    CropForegroundd,\n",
    "    LoadImaged,\n",
    "    Orientationd,\n",
    "    RandFlipd,\n",
    "    RandCropByPosNegLabeld,\n",
    "    RandShiftIntensityd,\n",
    "    ScaleIntensityRanged,\n",
    "    Spacingd,\n",
    "    RandRotate90d,\n",
    ")\n",
    "\n",
    "from monai.config import print_config\n",
    "from monai.metrics import DiceMetric\n",
    "from monai.networks.nets import UNETR\n",
    "\n",
    "from monai.data import (\n",
    "    DataLoader,\n",
    "    CacheDataset,\n",
    "    load_decathlon_datalist,\n",
    "    decollate_batch,\n",
    ")\n",
    "\n",
    "\n",
    "import torch\n",
    "\n",
    "print_config()"
   ]
  },
  {
   "cell_type": "code",
   "execution_count": 6,
   "metadata": {},
   "outputs": [],
   "source": [
    "path = '/braindat/lab/chenyd/LOGs/Neurips23_imgSSL/barlowTwins0414_final2/checkpoint_29999.pth'\n",
    "weight = torch.load(path)"
   ]
  },
  {
   "cell_type": "code",
   "execution_count": 8,
   "metadata": {},
   "outputs": [
    {
     "data": {
      "text/plain": [
       "odict_keys(['module.backbone.conv1.weight', 'module.backbone.bn1.weight', 'module.backbone.bn1.bias', 'module.backbone.bn1.running_mean', 'module.backbone.bn1.running_var', 'module.backbone.bn1.num_batches_tracked', 'module.backbone.layer1.0.conv1.weight', 'module.backbone.layer1.0.bn1.weight', 'module.backbone.layer1.0.bn1.bias', 'module.backbone.layer1.0.bn1.running_mean', 'module.backbone.layer1.0.bn1.running_var', 'module.backbone.layer1.0.bn1.num_batches_tracked', 'module.backbone.layer1.0.conv2.weight', 'module.backbone.layer1.0.bn2.weight', 'module.backbone.layer1.0.bn2.bias', 'module.backbone.layer1.0.bn2.running_mean', 'module.backbone.layer1.0.bn2.running_var', 'module.backbone.layer1.0.bn2.num_batches_tracked', 'module.backbone.layer1.0.conv3.weight', 'module.backbone.layer1.0.bn3.weight', 'module.backbone.layer1.0.bn3.bias', 'module.backbone.layer1.0.bn3.running_mean', 'module.backbone.layer1.0.bn3.running_var', 'module.backbone.layer1.0.bn3.num_batches_tracked', 'module.backbone.layer1.0.downsample.0.weight', 'module.backbone.layer1.0.downsample.1.weight', 'module.backbone.layer1.0.downsample.1.bias', 'module.backbone.layer1.0.downsample.1.running_mean', 'module.backbone.layer1.0.downsample.1.running_var', 'module.backbone.layer1.0.downsample.1.num_batches_tracked', 'module.backbone.layer1.1.conv1.weight', 'module.backbone.layer1.1.bn1.weight', 'module.backbone.layer1.1.bn1.bias', 'module.backbone.layer1.1.bn1.running_mean', 'module.backbone.layer1.1.bn1.running_var', 'module.backbone.layer1.1.bn1.num_batches_tracked', 'module.backbone.layer1.1.conv2.weight', 'module.backbone.layer1.1.bn2.weight', 'module.backbone.layer1.1.bn2.bias', 'module.backbone.layer1.1.bn2.running_mean', 'module.backbone.layer1.1.bn2.running_var', 'module.backbone.layer1.1.bn2.num_batches_tracked', 'module.backbone.layer1.1.conv3.weight', 'module.backbone.layer1.1.bn3.weight', 'module.backbone.layer1.1.bn3.bias', 'module.backbone.layer1.1.bn3.running_mean', 'module.backbone.layer1.1.bn3.running_var', 'module.backbone.layer1.1.bn3.num_batches_tracked', 'module.backbone.layer1.2.conv1.weight', 'module.backbone.layer1.2.bn1.weight', 'module.backbone.layer1.2.bn1.bias', 'module.backbone.layer1.2.bn1.running_mean', 'module.backbone.layer1.2.bn1.running_var', 'module.backbone.layer1.2.bn1.num_batches_tracked', 'module.backbone.layer1.2.conv2.weight', 'module.backbone.layer1.2.bn2.weight', 'module.backbone.layer1.2.bn2.bias', 'module.backbone.layer1.2.bn2.running_mean', 'module.backbone.layer1.2.bn2.running_var', 'module.backbone.layer1.2.bn2.num_batches_tracked', 'module.backbone.layer1.2.conv3.weight', 'module.backbone.layer1.2.bn3.weight', 'module.backbone.layer1.2.bn3.bias', 'module.backbone.layer1.2.bn3.running_mean', 'module.backbone.layer1.2.bn3.running_var', 'module.backbone.layer1.2.bn3.num_batches_tracked', 'module.backbone.layer2.0.conv1.weight', 'module.backbone.layer2.0.bn1.weight', 'module.backbone.layer2.0.bn1.bias', 'module.backbone.layer2.0.bn1.running_mean', 'module.backbone.layer2.0.bn1.running_var', 'module.backbone.layer2.0.bn1.num_batches_tracked', 'module.backbone.layer2.0.conv2.weight', 'module.backbone.layer2.0.bn2.weight', 'module.backbone.layer2.0.bn2.bias', 'module.backbone.layer2.0.bn2.running_mean', 'module.backbone.layer2.0.bn2.running_var', 'module.backbone.layer2.0.bn2.num_batches_tracked', 'module.backbone.layer2.0.conv3.weight', 'module.backbone.layer2.0.bn3.weight', 'module.backbone.layer2.0.bn3.bias', 'module.backbone.layer2.0.bn3.running_mean', 'module.backbone.layer2.0.bn3.running_var', 'module.backbone.layer2.0.bn3.num_batches_tracked', 'module.backbone.layer2.0.downsample.0.weight', 'module.backbone.layer2.0.downsample.1.weight', 'module.backbone.layer2.0.downsample.1.bias', 'module.backbone.layer2.0.downsample.1.running_mean', 'module.backbone.layer2.0.downsample.1.running_var', 'module.backbone.layer2.0.downsample.1.num_batches_tracked', 'module.backbone.layer2.1.conv1.weight', 'module.backbone.layer2.1.bn1.weight', 'module.backbone.layer2.1.bn1.bias', 'module.backbone.layer2.1.bn1.running_mean', 'module.backbone.layer2.1.bn1.running_var', 'module.backbone.layer2.1.bn1.num_batches_tracked', 'module.backbone.layer2.1.conv2.weight', 'module.backbone.layer2.1.bn2.weight', 'module.backbone.layer2.1.bn2.bias', 'module.backbone.layer2.1.bn2.running_mean', 'module.backbone.layer2.1.bn2.running_var', 'module.backbone.layer2.1.bn2.num_batches_tracked', 'module.backbone.layer2.1.conv3.weight', 'module.backbone.layer2.1.bn3.weight', 'module.backbone.layer2.1.bn3.bias', 'module.backbone.layer2.1.bn3.running_mean', 'module.backbone.layer2.1.bn3.running_var', 'module.backbone.layer2.1.bn3.num_batches_tracked', 'module.backbone.layer2.2.conv1.weight', 'module.backbone.layer2.2.bn1.weight', 'module.backbone.layer2.2.bn1.bias', 'module.backbone.layer2.2.bn1.running_mean', 'module.backbone.layer2.2.bn1.running_var', 'module.backbone.layer2.2.bn1.num_batches_tracked', 'module.backbone.layer2.2.conv2.weight', 'module.backbone.layer2.2.bn2.weight', 'module.backbone.layer2.2.bn2.bias', 'module.backbone.layer2.2.bn2.running_mean', 'module.backbone.layer2.2.bn2.running_var', 'module.backbone.layer2.2.bn2.num_batches_tracked', 'module.backbone.layer2.2.conv3.weight', 'module.backbone.layer2.2.bn3.weight', 'module.backbone.layer2.2.bn3.bias', 'module.backbone.layer2.2.bn3.running_mean', 'module.backbone.layer2.2.bn3.running_var', 'module.backbone.layer2.2.bn3.num_batches_tracked', 'module.backbone.layer2.3.conv1.weight', 'module.backbone.layer2.3.bn1.weight', 'module.backbone.layer2.3.bn1.bias', 'module.backbone.layer2.3.bn1.running_mean', 'module.backbone.layer2.3.bn1.running_var', 'module.backbone.layer2.3.bn1.num_batches_tracked', 'module.backbone.layer2.3.conv2.weight', 'module.backbone.layer2.3.bn2.weight', 'module.backbone.layer2.3.bn2.bias', 'module.backbone.layer2.3.bn2.running_mean', 'module.backbone.layer2.3.bn2.running_var', 'module.backbone.layer2.3.bn2.num_batches_tracked', 'module.backbone.layer2.3.conv3.weight', 'module.backbone.layer2.3.bn3.weight', 'module.backbone.layer2.3.bn3.bias', 'module.backbone.layer2.3.bn3.running_mean', 'module.backbone.layer2.3.bn3.running_var', 'module.backbone.layer2.3.bn3.num_batches_tracked', 'module.backbone.layer3.0.conv1.weight', 'module.backbone.layer3.0.bn1.weight', 'module.backbone.layer3.0.bn1.bias', 'module.backbone.layer3.0.bn1.running_mean', 'module.backbone.layer3.0.bn1.running_var', 'module.backbone.layer3.0.bn1.num_batches_tracked', 'module.backbone.layer3.0.conv2.weight', 'module.backbone.layer3.0.bn2.weight', 'module.backbone.layer3.0.bn2.bias', 'module.backbone.layer3.0.bn2.running_mean', 'module.backbone.layer3.0.bn2.running_var', 'module.backbone.layer3.0.bn2.num_batches_tracked', 'module.backbone.layer3.0.conv3.weight', 'module.backbone.layer3.0.bn3.weight', 'module.backbone.layer3.0.bn3.bias', 'module.backbone.layer3.0.bn3.running_mean', 'module.backbone.layer3.0.bn3.running_var', 'module.backbone.layer3.0.bn3.num_batches_tracked', 'module.backbone.layer3.0.downsample.0.weight', 'module.backbone.layer3.0.downsample.1.weight', 'module.backbone.layer3.0.downsample.1.bias', 'module.backbone.layer3.0.downsample.1.running_mean', 'module.backbone.layer3.0.downsample.1.running_var', 'module.backbone.layer3.0.downsample.1.num_batches_tracked', 'module.backbone.layer3.1.conv1.weight', 'module.backbone.layer3.1.bn1.weight', 'module.backbone.layer3.1.bn1.bias', 'module.backbone.layer3.1.bn1.running_mean', 'module.backbone.layer3.1.bn1.running_var', 'module.backbone.layer3.1.bn1.num_batches_tracked', 'module.backbone.layer3.1.conv2.weight', 'module.backbone.layer3.1.bn2.weight', 'module.backbone.layer3.1.bn2.bias', 'module.backbone.layer3.1.bn2.running_mean', 'module.backbone.layer3.1.bn2.running_var', 'module.backbone.layer3.1.bn2.num_batches_tracked', 'module.backbone.layer3.1.conv3.weight', 'module.backbone.layer3.1.bn3.weight', 'module.backbone.layer3.1.bn3.bias', 'module.backbone.layer3.1.bn3.running_mean', 'module.backbone.layer3.1.bn3.running_var', 'module.backbone.layer3.1.bn3.num_batches_tracked', 'module.backbone.layer3.2.conv1.weight', 'module.backbone.layer3.2.bn1.weight', 'module.backbone.layer3.2.bn1.bias', 'module.backbone.layer3.2.bn1.running_mean', 'module.backbone.layer3.2.bn1.running_var', 'module.backbone.layer3.2.bn1.num_batches_tracked', 'module.backbone.layer3.2.conv2.weight', 'module.backbone.layer3.2.bn2.weight', 'module.backbone.layer3.2.bn2.bias', 'module.backbone.layer3.2.bn2.running_mean', 'module.backbone.layer3.2.bn2.running_var', 'module.backbone.layer3.2.bn2.num_batches_tracked', 'module.backbone.layer3.2.conv3.weight', 'module.backbone.layer3.2.bn3.weight', 'module.backbone.layer3.2.bn3.bias', 'module.backbone.layer3.2.bn3.running_mean', 'module.backbone.layer3.2.bn3.running_var', 'module.backbone.layer3.2.bn3.num_batches_tracked', 'module.backbone.layer3.3.conv1.weight', 'module.backbone.layer3.3.bn1.weight', 'module.backbone.layer3.3.bn1.bias', 'module.backbone.layer3.3.bn1.running_mean', 'module.backbone.layer3.3.bn1.running_var', 'module.backbone.layer3.3.bn1.num_batches_tracked', 'module.backbone.layer3.3.conv2.weight', 'module.backbone.layer3.3.bn2.weight', 'module.backbone.layer3.3.bn2.bias', 'module.backbone.layer3.3.bn2.running_mean', 'module.backbone.layer3.3.bn2.running_var', 'module.backbone.layer3.3.bn2.num_batches_tracked', 'module.backbone.layer3.3.conv3.weight', 'module.backbone.layer3.3.bn3.weight', 'module.backbone.layer3.3.bn3.bias', 'module.backbone.layer3.3.bn3.running_mean', 'module.backbone.layer3.3.bn3.running_var', 'module.backbone.layer3.3.bn3.num_batches_tracked', 'module.backbone.layer3.4.conv1.weight', 'module.backbone.layer3.4.bn1.weight', 'module.backbone.layer3.4.bn1.bias', 'module.backbone.layer3.4.bn1.running_mean', 'module.backbone.layer3.4.bn1.running_var', 'module.backbone.layer3.4.bn1.num_batches_tracked', 'module.backbone.layer3.4.conv2.weight', 'module.backbone.layer3.4.bn2.weight', 'module.backbone.layer3.4.bn2.bias', 'module.backbone.layer3.4.bn2.running_mean', 'module.backbone.layer3.4.bn2.running_var', 'module.backbone.layer3.4.bn2.num_batches_tracked', 'module.backbone.layer3.4.conv3.weight', 'module.backbone.layer3.4.bn3.weight', 'module.backbone.layer3.4.bn3.bias', 'module.backbone.layer3.4.bn3.running_mean', 'module.backbone.layer3.4.bn3.running_var', 'module.backbone.layer3.4.bn3.num_batches_tracked', 'module.backbone.layer3.5.conv1.weight', 'module.backbone.layer3.5.bn1.weight', 'module.backbone.layer3.5.bn1.bias', 'module.backbone.layer3.5.bn1.running_mean', 'module.backbone.layer3.5.bn1.running_var', 'module.backbone.layer3.5.bn1.num_batches_tracked', 'module.backbone.layer3.5.conv2.weight', 'module.backbone.layer3.5.bn2.weight', 'module.backbone.layer3.5.bn2.bias', 'module.backbone.layer3.5.bn2.running_mean', 'module.backbone.layer3.5.bn2.running_var', 'module.backbone.layer3.5.bn2.num_batches_tracked', 'module.backbone.layer3.5.conv3.weight', 'module.backbone.layer3.5.bn3.weight', 'module.backbone.layer3.5.bn3.bias', 'module.backbone.layer3.5.bn3.running_mean', 'module.backbone.layer3.5.bn3.running_var', 'module.backbone.layer3.5.bn3.num_batches_tracked', 'module.backbone.layer4.0.conv1.weight', 'module.backbone.layer4.0.bn1.weight', 'module.backbone.layer4.0.bn1.bias', 'module.backbone.layer4.0.bn1.running_mean', 'module.backbone.layer4.0.bn1.running_var', 'module.backbone.layer4.0.bn1.num_batches_tracked', 'module.backbone.layer4.0.conv2.weight', 'module.backbone.layer4.0.bn2.weight', 'module.backbone.layer4.0.bn2.bias', 'module.backbone.layer4.0.bn2.running_mean', 'module.backbone.layer4.0.bn2.running_var', 'module.backbone.layer4.0.bn2.num_batches_tracked', 'module.backbone.layer4.0.conv3.weight', 'module.backbone.layer4.0.bn3.weight', 'module.backbone.layer4.0.bn3.bias', 'module.backbone.layer4.0.bn3.running_mean', 'module.backbone.layer4.0.bn3.running_var', 'module.backbone.layer4.0.bn3.num_batches_tracked', 'module.backbone.layer4.0.downsample.0.weight', 'module.backbone.layer4.0.downsample.1.weight', 'module.backbone.layer4.0.downsample.1.bias', 'module.backbone.layer4.0.downsample.1.running_mean', 'module.backbone.layer4.0.downsample.1.running_var', 'module.backbone.layer4.0.downsample.1.num_batches_tracked', 'module.backbone.layer4.1.conv1.weight', 'module.backbone.layer4.1.bn1.weight', 'module.backbone.layer4.1.bn1.bias', 'module.backbone.layer4.1.bn1.running_mean', 'module.backbone.layer4.1.bn1.running_var', 'module.backbone.layer4.1.bn1.num_batches_tracked', 'module.backbone.layer4.1.conv2.weight', 'module.backbone.layer4.1.bn2.weight', 'module.backbone.layer4.1.bn2.bias', 'module.backbone.layer4.1.bn2.running_mean', 'module.backbone.layer4.1.bn2.running_var', 'module.backbone.layer4.1.bn2.num_batches_tracked', 'module.backbone.layer4.1.conv3.weight', 'module.backbone.layer4.1.bn3.weight', 'module.backbone.layer4.1.bn3.bias', 'module.backbone.layer4.1.bn3.running_mean', 'module.backbone.layer4.1.bn3.running_var', 'module.backbone.layer4.1.bn3.num_batches_tracked', 'module.backbone.layer4.2.conv1.weight', 'module.backbone.layer4.2.bn1.weight', 'module.backbone.layer4.2.bn1.bias', 'module.backbone.layer4.2.bn1.running_mean', 'module.backbone.layer4.2.bn1.running_var', 'module.backbone.layer4.2.bn1.num_batches_tracked', 'module.backbone.layer4.2.conv2.weight', 'module.backbone.layer4.2.bn2.weight', 'module.backbone.layer4.2.bn2.bias', 'module.backbone.layer4.2.bn2.running_mean', 'module.backbone.layer4.2.bn2.running_var', 'module.backbone.layer4.2.bn2.num_batches_tracked', 'module.backbone.layer4.2.conv3.weight', 'module.backbone.layer4.2.bn3.weight', 'module.backbone.layer4.2.bn3.bias', 'module.backbone.layer4.2.bn3.running_mean', 'module.backbone.layer4.2.bn3.running_var', 'module.backbone.layer4.2.bn3.num_batches_tracked', 'module.projector.0.weight', 'module.projector.1.weight', 'module.projector.1.bias', 'module.projector.1.running_mean', 'module.projector.1.running_var', 'module.projector.1.num_batches_tracked', 'module.projector.3.weight', 'module.projector.4.weight', 'module.projector.4.bias', 'module.projector.4.running_mean', 'module.projector.4.running_var', 'module.projector.4.num_batches_tracked', 'module.projector.6.weight', 'module.bn.running_mean', 'module.bn.running_var', 'module.bn.num_batches_tracked'])"
      ]
     },
     "execution_count": 8,
     "metadata": {},
     "output_type": "execute_result"
    }
   ],
   "source": [
    "weight['model'].keys()"
   ]
  },
  {
   "cell_type": "code",
   "execution_count": 7,
   "metadata": {},
   "outputs": [],
   "source": [
    "root_dir = '/braindat/lab/chenyd/MODEL/MSD'"
   ]
  },
  {
   "cell_type": "code",
   "execution_count": 3,
   "metadata": {},
   "outputs": [],
   "source": [
    "train_transforms = Compose(\n",
    "    [\n",
    "        LoadImaged(keys=[\"image\", \"label\"]),\n",
    "        EnsureChannelFirstd(keys=[\"image\", \"label\"]),\n",
    "        Orientationd(keys=[\"image\", \"label\"], axcodes=\"RAS\"),\n",
    "        Spacingd(\n",
    "            keys=[\"image\", \"label\"],\n",
    "            pixdim=(1.5, 1.5, 2.0),\n",
    "            mode=(\"bilinear\", \"nearest\"),\n",
    "        ),\n",
    "        ScaleIntensityRanged(\n",
    "            keys=[\"image\"],\n",
    "            a_min=-175,\n",
    "            a_max=250,\n",
    "            b_min=0.0,\n",
    "            b_max=1.0,\n",
    "            clip=True,\n",
    "        ),\n",
    "        CropForegroundd(keys=[\"image\", \"label\"], source_key=\"image\"),\n",
    "        RandCropByPosNegLabeld(\n",
    "            keys=[\"image\", \"label\"],\n",
    "            label_key=\"label\",\n",
    "            spatial_size=(96, 96, 96),\n",
    "            pos=1,\n",
    "            neg=1,\n",
    "            num_samples=4,\n",
    "            image_key=\"image\",\n",
    "            image_threshold=0,\n",
    "        ),\n",
    "        RandFlipd(\n",
    "            keys=[\"image\", \"label\"],\n",
    "            spatial_axis=[0],\n",
    "            prob=0.10,\n",
    "        ),\n",
    "        RandFlipd(\n",
    "            keys=[\"image\", \"label\"],\n",
    "            spatial_axis=[1],\n",
    "            prob=0.10,\n",
    "        ),\n",
    "        RandFlipd(\n",
    "            keys=[\"image\", \"label\"],\n",
    "            spatial_axis=[2],\n",
    "            prob=0.10,\n",
    "        ),\n",
    "        RandRotate90d(\n",
    "            keys=[\"image\", \"label\"],\n",
    "            prob=0.10,\n",
    "            max_k=3,\n",
    "        ),\n",
    "        RandShiftIntensityd(\n",
    "            keys=[\"image\"],\n",
    "            offsets=0.10,\n",
    "            prob=0.50,\n",
    "        ),\n",
    "    ]\n",
    ")\n",
    "val_transforms = Compose(\n",
    "    [\n",
    "        LoadImaged(keys=[\"image\", \"label\"]),\n",
    "        EnsureChannelFirstd(keys=[\"image\", \"label\"]),\n",
    "        Orientationd(keys=[\"image\", \"label\"], axcodes=\"RAS\"),\n",
    "        Spacingd(\n",
    "            keys=[\"image\", \"label\"],\n",
    "            pixdim=(1.5, 1.5, 2.0),\n",
    "            mode=(\"bilinear\", \"nearest\"),\n",
    "        ),\n",
    "        ScaleIntensityRanged(keys=[\"image\"], a_min=-175, a_max=250, b_min=0.0, b_max=1.0, clip=True),\n",
    "        CropForegroundd(keys=[\"image\", \"label\"], source_key=\"image\"),\n",
    "    ]\n",
    ")"
   ]
  },
  {
   "cell_type": "code",
   "execution_count": 36,
   "metadata": {},
   "outputs": [],
   "source": [
    "import json\n",
    "with open(datasets) as json_file:\n",
    "    data = json.load(json_file)\n",
    "    train_files = data[\"training\"]\n",
    "    val_files = data[\"test\"]\n",
    "    labels = data['labels']"
   ]
  },
  {
   "cell_type": "code",
   "execution_count": 3,
   "metadata": {},
   "outputs": [],
   "source": [
    "import nibabel as nib\n",
    "import os\n",
    "import numpy as np\n",
    "from matplotlib import pyplot as plt\n",
    "from glob import glob\n",
    "from tqdm import tqdm\n",
    "from monai.losses import DiceCELoss\n",
    "from monai.inferers import sliding_window_inference\n",
    "from monai.transforms import (\n",
    "    AsDiscrete,\n",
    "    EnsureChannelFirstd,\n",
    "    Compose,\n",
    "    CropForegroundd,\n",
    "    LoadImaged,\n",
    "    Orientationd,\n",
    "    RandFlipd,\n",
    "    RandCropByPosNegLabeld,\n",
    "    RandShiftIntensityd,\n",
    "    ScaleIntensityRanged,\n",
    "    Spacingd,\n",
    "    RandRotate90d,\n",
    "    RandSpatialCropd,\n",
    ")\n",
    "from resunet import ResUNet\n",
    "import torch.nn as nn\n",
    "import argparse\n",
    "from monai.config import print_config\n",
    "from monai.metrics import DiceMetric\n",
    "from monai.networks.nets import UNETR"
   ]
  },
  {
   "cell_type": "code",
   "execution_count": 4,
   "metadata": {},
   "outputs": [],
   "source": [
    "train_transforms = Compose(\n",
    "    [\n",
    "        LoadImaged(keys=[\"image\", \"label\"]),\n",
    "        EnsureChannelFirstd(keys=[\"image\", \"label\"]),\n",
    "        Orientationd(keys=[\"image\", \"label\"], axcodes=\"RAS\"),\n",
    "        Spacingd(\n",
    "            keys=[\"image\", \"label\"],\n",
    "            pixdim=(1,1,1),\n",
    "            mode=(\"bilinear\", \"nearest\"),\n",
    "        ),\n",
    "        ScaleIntensityRanged(\n",
    "            keys=[\"image\"],\n",
    "            a_min=-175,\n",
    "            a_max=250,\n",
    "            b_min=0.0,\n",
    "            b_max=1.0,\n",
    "            clip=True,\n",
    "        ),\n",
    "        CropForegroundd(keys=[\"image\", \"label\"], source_key=\"image\"),\n",
    "        \n",
    "        # RandCropByPosNegLabeld(\n",
    "        #     keys=[\"image\", \"label\"],\n",
    "        #     label_key=\"label\",\n",
    "        #     spatial_size=patch_size,\n",
    "        #     pos=1,\n",
    "        #     neg=1,\n",
    "        #     num_samples=4,\n",
    "        #     image_key=\"image\",\n",
    "        #     image_threshold=0,\n",
    "        # ),\n",
    "        RandSpatialCropd(\n",
    "            keys=[\"image\", \"label\"],\n",
    "            roi_size=(100,100,100),\n",
    "            random_size=False,\n",
    "        ),\n",
    "\n",
    "        RandFlipd(\n",
    "            keys=[\"image\", \"label\"],\n",
    "            spatial_axis=[0],\n",
    "            prob=0.10,\n",
    "        ),\n",
    "        RandFlipd(\n",
    "            keys=[\"image\", \"label\"],\n",
    "            spatial_axis=[1],\n",
    "            prob=0.10,\n",
    "        ),\n",
    "        RandFlipd(\n",
    "            keys=[\"image\", \"label\"],\n",
    "            spatial_axis=[2],\n",
    "            prob=0.10,\n",
    "        ),\n",
    "        RandRotate90d(\n",
    "            keys=[\"image\", \"label\"],\n",
    "            prob=0.10,\n",
    "            max_k=3,\n",
    "        ),\n",
    "        RandShiftIntensityd(\n",
    "            keys=[\"image\"],\n",
    "            offsets=0.10,\n",
    "            prob=0.50,\n",
    "        ),\n",
    "    ]\n",
    ")"
   ]
  },
  {
   "cell_type": "code",
   "execution_count": 5,
   "metadata": {},
   "outputs": [
    {
     "name": "stdout",
     "output_type": "stream",
     "text": [
      "(320, 320, 130)\n",
      "(320, 320, 110)\n",
      "(320, 320, 120)\n",
      "(320, 320, 130)\n",
      "(320, 320, 100)\n",
      "(320, 320, 120)\n",
      "(320, 320, 120)\n",
      "(320, 320, 120)\n",
      "(320, 320, 90)\n",
      "(320, 320, 120)\n",
      "(320, 320, 122)\n",
      "(320, 320, 100)\n",
      "(320, 320, 110)\n",
      "(320, 320, 100)\n",
      "(320, 320, 110)\n",
      "(320, 320, 110)\n",
      "(320, 320, 120)\n",
      "(320, 320, 120)\n",
      "(320, 320, 109)\n",
      "(320, 320, 110)\n",
      "(400, 400, 180)\n",
      "(320, 320, 140)\n",
      "(400, 400, 180)\n",
      "(320, 320, 110)\n",
      "(320, 320, 137)\n",
      "(320, 320, 120)\n",
      "(320, 320, 100)\n",
      "(320, 320, 120)\n",
      "(320, 320, 100)\n",
      "(320, 320, 110)\n"
     ]
    }
   ],
   "source": [
    "def get_nii_data(path):\n",
    "    nii = nib.load(path)\n",
    "    data = nii.get_fdata()\n",
    "    return data.shape\n",
    "\n",
    "data_path = sorted(glob(os.path.join('/data/ydchen/EM_pretraining_data/MSD/Task02_Heart', 'imag*', '*.nii.gz')))\n",
    "for i in data_path:\n",
    "    print(get_nii_data(i))"
   ]
  },
  {
   "cell_type": "code",
   "execution_count": 2,
   "metadata": {},
   "outputs": [
    {
     "name": "stdout",
     "output_type": "stream",
     "text": [
      "(320, 320, 140)\n"
     ]
    }
   ],
   "source": [
    "path = '/data/ydchen/EM_pretraining_data/MSD/Task02_Heart/imagesTs/la_002.nii.gz'\n",
    "img = nib.load(path)\n",
    "img = img.get_fdata()\n",
    "print(img.shape)"
   ]
  },
  {
   "cell_type": "code",
   "execution_count": 14,
   "metadata": {},
   "outputs": [
    {
     "name": "stderr",
     "output_type": "stream",
     "text": [
      "Loading dataset: 100%|██████████| 24/24 [00:50<00:00,  2.10s/it]\n",
      "Loading dataset: 100%|██████████| 6/6 [00:12<00:00,  2.01s/it]\n"
     ]
    }
   ],
   "source": [
    "data_dir = \"/braindat/lab/chenyd/DATASET/MSD/Task01_BrainTumour/\"\n",
    "split_json = \"dataset.json\"\n",
    "\n",
    "datasets = data_dir + split_json\n",
    "datalist = load_decathlon_datalist(datasets, True, \"training\")\n",
    "total_len = len(datalist)\n",
    "trainlist = datalist[: int(total_len * 0.9)]\n",
    "val_files = datalist[int(total_len * 0.9) :]\n",
    "\n",
    "train_ds = CacheDataset(\n",
    "    data=trainlist,\n",
    "    transform=train_transforms,\n",
    "    cache_num=24,\n",
    "    cache_rate=1.0,\n",
    "    num_workers=8,\n",
    ")\n",
    "train_loader = DataLoader(train_ds, batch_size=1, shuffle=True, num_workers=8, pin_memory=True)\n",
    "val_ds = CacheDataset(data=val_files, transform=val_transforms, cache_num=6, cache_rate=1.0, num_workers=4)\n",
    "val_loader = DataLoader(val_ds, batch_size=1, shuffle=False, num_workers=4, pin_memory=True)"
   ]
  },
  {
   "cell_type": "code",
   "execution_count": 13,
   "metadata": {},
   "outputs": [
    {
     "data": {
      "text/plain": [
       "484"
      ]
     },
     "execution_count": 13,
     "metadata": {},
     "output_type": "execute_result"
    }
   ],
   "source": [
    "len(datalist)"
   ]
  },
  {
   "cell_type": "code",
   "execution_count": 15,
   "metadata": {},
   "outputs": [],
   "source": [
    "os.environ[\"CUDA_DEVICE_ORDER\"] = \"PCI_BUS_ID\"\n",
    "device = torch.device(\"cuda\" if torch.cuda.is_available() else \"cpu\")\n",
    "\n",
    "model = UNETR(\n",
    "    in_channels=1,\n",
    "    out_channels=14,\n",
    "    img_size=(96, 96, 96),\n",
    "    feature_size=16,\n",
    "    hidden_size=768,\n",
    "    mlp_dim=3072,\n",
    "    num_heads=12,\n",
    "    pos_embed=\"perceptron\",\n",
    "    norm_name=\"instance\",\n",
    "    res_block=True,\n",
    "    dropout_rate=0.0,\n",
    ").to(device)\n",
    "\n",
    "loss_function = DiceCELoss(to_onehot_y=True, softmax=True)\n",
    "torch.backends.cudnn.benchmark = True\n",
    "optimizer = torch.optim.AdamW(model.parameters(), lr=1e-4, weight_decay=1e-5)"
   ]
  },
  {
   "cell_type": "code",
   "execution_count": 16,
   "metadata": {},
   "outputs": [],
   "source": [
    "def validation(epoch_iterator_val):\n",
    "    model.eval()\n",
    "    with torch.no_grad():\n",
    "        for batch in epoch_iterator_val:\n",
    "            val_inputs, val_labels = (batch[\"image\"].cuda(), batch[\"label\"].cuda())\n",
    "            val_outputs = sliding_window_inference(val_inputs, (96, 96, 96), 4, model)\n",
    "            val_labels_list = decollate_batch(val_labels)\n",
    "            val_labels_convert = [post_label(val_label_tensor) for val_label_tensor in val_labels_list]\n",
    "            val_outputs_list = decollate_batch(val_outputs)\n",
    "            val_output_convert = [post_pred(val_pred_tensor) for val_pred_tensor in val_outputs_list]\n",
    "            dice_metric(y_pred=val_output_convert, y=val_labels_convert)\n",
    "            epoch_iterator_val.set_description(\"Validate (%d / %d Steps)\" % (global_step, 10.0))\n",
    "        mean_dice_val = dice_metric.aggregate().item()\n",
    "        dice_metric.reset()\n",
    "    return mean_dice_val\n",
    "\n",
    "\n",
    "def train(global_step, train_loader, dice_val_best, global_step_best):\n",
    "    model.train()\n",
    "    epoch_loss = 0\n",
    "    step = 0\n",
    "    epoch_iterator = tqdm(train_loader, desc=\"Training (X / X Steps) (loss=X.X)\", dynamic_ncols=True)\n",
    "    for step, batch in enumerate(epoch_iterator):\n",
    "        step += 1\n",
    "        x, y = (batch[\"image\"].cuda(), batch[\"label\"].cuda())\n",
    "        logit_map = model(x)\n",
    "        loss = loss_function(logit_map, y)\n",
    "        loss.backward()\n",
    "        epoch_loss += loss.item()\n",
    "        optimizer.step()\n",
    "        optimizer.zero_grad()\n",
    "        epoch_iterator.set_description(\"Training (%d / %d Steps) (loss=%2.5f)\" % (global_step, max_iterations, loss))\n",
    "        if (global_step % eval_num == 0 and global_step != 0) or global_step == max_iterations:\n",
    "            epoch_iterator_val = tqdm(val_loader, desc=\"Validate (X / X Steps) (dice=X.X)\", dynamic_ncols=True)\n",
    "            dice_val = validation(epoch_iterator_val)\n",
    "            epoch_loss /= step\n",
    "            epoch_loss_values.append(epoch_loss)\n",
    "            metric_values.append(dice_val)\n",
    "            if dice_val > dice_val_best:\n",
    "                dice_val_best = dice_val\n",
    "                global_step_best = global_step\n",
    "                torch.save(model.state_dict(), os.path.join(root_dir, \"best_metric_model.pth\"))\n",
    "                print(\n",
    "                    \"Model Was Saved ! Current Best Avg. Dice: {} Current Avg. Dice: {}\".format(dice_val_best, dice_val)\n",
    "                )\n",
    "            else:\n",
    "                print(\n",
    "                    \"Model Was Not Saved ! Current Best Avg. Dice: {} Current Avg. Dice: {}\".format(\n",
    "                        dice_val_best, dice_val\n",
    "                    )\n",
    "                )\n",
    "        global_step += 1\n",
    "    return global_step, dice_val_best, global_step_best\n",
    "\n",
    "\n",
    "max_iterations = 25000\n",
    "eval_num = 500\n",
    "post_label = AsDiscrete(to_onehot=14)\n",
    "post_pred = AsDiscrete(argmax=True, to_onehot=14)\n",
    "dice_metric = DiceMetric(include_background=True, reduction=\"mean\", get_not_nans=False)\n",
    "global_step = 0\n",
    "dice_val_best = 0.0\n",
    "global_step_best = 0\n",
    "epoch_loss_values = []\n",
    "metric_values = []\n",
    "# while global_step < max_iterations:\n",
    "#     global_step, dice_val_best, global_step_best = train(global_step, train_loader, dice_val_best, global_step_best)\n",
    "# model.load_state_dict(torch.load(os.path.join(root_dir, \"best_metric_model.pth\")))"
   ]
  },
  {
   "cell_type": "code",
   "execution_count": 17,
   "metadata": {},
   "outputs": [
    {
     "data": {
      "text/plain": [
       "torch.Size([1, 14, 96, 96, 96])"
      ]
     },
     "execution_count": 17,
     "metadata": {},
     "output_type": "execute_result"
    }
   ],
   "source": [
    "x = torch.randn(1, 1, 96, 96, 96).cuda()\n",
    "model(x).shape"
   ]
  },
  {
   "cell_type": "code",
   "execution_count": 26,
   "metadata": {},
   "outputs": [],
   "source": [
    "for batch in val_loader:\n",
    "    x, y = (batch[\"image\"], batch[\"label\"])\n",
    "    break"
   ]
  },
  {
   "cell_type": "code",
   "execution_count": 27,
   "metadata": {},
   "outputs": [],
   "source": [
    "from matplotlib import pyplot as plt"
   ]
  },
  {
   "cell_type": "code",
   "execution_count": 32,
   "metadata": {},
   "outputs": [
    {
     "data": {
      "text/plain": [
       "tensor([0., 1., 2., 3.])"
      ]
     },
     "execution_count": 32,
     "metadata": {},
     "output_type": "execute_result"
    }
   ],
   "source": [
    "y.unique()"
   ]
  },
  {
   "cell_type": "code",
   "execution_count": 30,
   "metadata": {},
   "outputs": [
    {
     "data": {
      "text/plain": [
       "<matplotlib.image.AxesImage at 0x7fdc55d49b10>"
      ]
     },
     "execution_count": 30,
     "metadata": {},
     "output_type": "execute_result"
    },
    {
     "data": {
      "image/png": "[encoded data removed]",
      "text/plain": [
       "<Figure size 640x480 with 1 Axes>"
      ]
     },
     "metadata": {},
     "output_type": "display_data"
    }
   ],
   "source": [
    "plt.imshow(x[0, 0, 48, :, :].cpu().numpy())"
   ]
  },
  {
   "cell_type": "code",
   "execution_count": 9,
   "metadata": {},
   "outputs": [],
   "source": [
    "import os\n",
    "from glob import glob\n",
    "import json\n",
    "import nibabel as nib"
   ]
  },
  {
   "cell_type": "code",
   "execution_count": 36,
   "metadata": {},
   "outputs": [
    {
     "name": "stdout",
     "output_type": "stream",
     "text": [
      "task task7 patch size is [40, 224, 224]\n",
      "task task10 patch size is [56, 192, 192]\n",
      "task task5 patch size is [20, 320, 256]\n",
      "task task6 patch size is [80, 192, 160]\n",
      "task task3 patch size is [128, 128, 128]\n",
      "task task8 patch size is [64, 192, 192]\n",
      "task task1 patch size is [128, 128, 128]\n",
      "task task4 patch size is [40, 56, 40]\n",
      "task task2 patch size is [80, 192, 160]\n",
      "task task9 patch size is [64, 192, 160]\n"
     ]
    }
   ],
   "source": [
    "path = glob(os.path.join('/data/ydchen/EM_pretraining_data/MSD_json','ta*','nnUNetPlans.json'))\n",
    "for i in path:\n",
    "    with open(i) as json_file:\n",
    "        data = json.load(json_file)\n",
    "        patch_size = data['configurations']['3d_fullres']['patch_size']\n",
    "        print(f'task {i.split(\"/\")[-2]} patch size is {patch_size}')"
   ]
  },
  {
   "cell_type": "code",
   "execution_count": 37,
   "metadata": {},
   "outputs": [
    {
     "name": "stdout",
     "output_type": "stream",
     "text": [
      "[64, 192, 160]\n",
      "(192, 160, 64)\n"
     ]
    }
   ],
   "source": [
    "print(patch_size)\n",
    "patch_size = np.array(patch_size)\n",
    "# permute\n",
    "patch_size = patch_size[[1,2,0]]\n",
    "print(tuple(patch_size))"
   ]
  },
  {
   "cell_type": "code",
   "execution_count": 21,
   "metadata": {},
   "outputs": [
    {
     "data": {
      "text/plain": [
       "[160, 64, 192]"
      ]
     },
     "execution_count": 21,
     "metadata": {},
     "output_type": "execute_result"
    }
   ],
   "source": [
    "patch_size[0], patch_size[1], patch_size[2] = patch_size[2], patch_size[0], patch_size[1]\n",
    "patch_size"
   ]
  },
  {
   "cell_type": "code",
   "execution_count": 10,
   "metadata": {},
   "outputs": [],
   "source": [
    "def read_nii(path):\n",
    "    img = nib.load(path)\n",
    "    img = img.get_fdata()\n",
    "    return img"
   ]
  },
  {
   "cell_type": "code",
   "execution_count": 48,
   "metadata": {},
   "outputs": [],
   "source": [
    "data_path = glob(os.path.join('/data/ydchen/EM_pretraining_data/MSD','Task03*','im*','*gz'))"
   ]
  },
  {
   "cell_type": "code",
   "execution_count": 49,
   "metadata": {},
   "outputs": [
    {
     "name": "stdout",
     "output_type": "stream",
     "text": [
      "task Task03_Liver image shape is (512, 512, 751)\n",
      "task Task03_Liver image shape is (512, 512, 366)\n",
      "task Task03_Liver image shape is (512, 512, 756)\n",
      "task Task03_Liver image shape is (512, 512, 129)\n",
      "task Task03_Liver image shape is (512, 512, 630)\n",
      "task Task03_Liver image shape is (512, 512, 517)\n",
      "task Task03_Liver image shape is (512, 512, 541)\n",
      "task Task03_Liver image shape is (512, 512, 333)\n",
      "task Task03_Liver image shape is (512, 512, 122)\n",
      "task Task03_Liver image shape is (512, 512, 826)\n",
      "task Task03_Liver image shape is (512, 512, 113)\n",
      "task Task03_Liver image shape is (512, 512, 629)\n",
      "task Task03_Liver image shape is (512, 512, 155)\n",
      "task Task03_Liver image shape is (512, 512, 696)\n",
      "task Task03_Liver image shape is (512, 512, 119)\n",
      "task Task03_Liver image shape is (512, 512, 861)\n",
      "task Task03_Liver image shape is (512, 512, 683)\n",
      "task Task03_Liver image shape is (512, 512, 677)\n",
      "task Task03_Liver image shape is (512, 512, 781)\n",
      "task Task03_Liver image shape is (512, 512, 836)\n",
      "task Task03_Liver image shape is (512, 512, 230)\n",
      "task Task03_Liver image shape is (512, 512, 105)\n",
      "task Task03_Liver image shape is (512, 512, 424)\n",
      "task Task03_Liver image shape is (512, 512, 124)\n",
      "task Task03_Liver image shape is (512, 512, 501)\n",
      "task Task03_Liver image shape is (512, 512, 841)\n",
      "task Task03_Liver image shape is (512, 512, 751)\n",
      "task Task03_Liver image shape is (512, 512, 254)\n",
      "task Task03_Liver image shape is (512, 512, 689)\n",
      "task Task03_Liver image shape is (512, 512, 260)\n",
      "task Task03_Liver image shape is (512, 512, 139)\n",
      "task Task03_Liver image shape is (512, 512, 244)\n",
      "task Task03_Liver image shape is (512, 512, 91)\n",
      "task Task03_Liver image shape is (512, 512, 245)\n",
      "task Task03_Liver image shape is (512, 512, 654)\n",
      "task Task03_Liver image shape is (512, 512, 338)\n",
      "task Task03_Liver image shape is (512, 512, 908)\n",
      "task Task03_Liver image shape is (512, 512, 463)\n",
      "task Task03_Liver image shape is (512, 512, 541)\n",
      "task Task03_Liver image shape is (512, 512, 645)\n",
      "task Task03_Liver image shape is (512, 512, 455)\n",
      "task Task03_Liver image shape is (512, 512, 519)\n",
      "task Task03_Liver image shape is (512, 512, 227)\n",
      "task Task03_Liver image shape is (512, 512, 896)\n",
      "task Task03_Liver image shape is (512, 512, 671)\n",
      "task Task03_Liver image shape is (512, 512, 168)\n",
      "task Task03_Liver image shape is (512, 512, 846)\n",
      "task Task03_Liver image shape is (512, 512, 165)\n",
      "task Task03_Liver image shape is (512, 512, 391)\n",
      "task Task03_Liver image shape is (512, 512, 193)\n",
      "task Task03_Liver image shape is (512, 512, 422)\n",
      "task Task03_Liver image shape is (512, 512, 432)\n",
      "task Task03_Liver image shape is (512, 512, 461)\n",
      "task Task03_Liver image shape is (512, 512, 104)\n"
     ]
    },
    {
     "data": {
      "text/html": [
       "<pre style=\"white-space:pre;overflow-x:auto;line-height:normal;font-family:Menlo,'DejaVu Sans Mono',consolas,'Courier New',monospace\"><span style=\"color: #800000; text-decoration-color: #800000\">╭─────────────────────────────── </span><span style=\"color: #800000; text-decoration-color: #800000; font-weight: bold\">Traceback </span><span style=\"color: #bf7f7f; text-decoration-color: #bf7f7f; font-weight: bold\">(most recent call last)</span><span style=\"color: #800000; text-decoration-color: #800000\"> ────────────────────────────────╮</span>\n",
       "<span style=\"color: #800000; text-decoration-color: #800000\">│</span> <span style=\"color: #bfbf7f; text-decoration-color: #bfbf7f\">/tmp/ipykernel_4338/</span><span style=\"color: #808000; text-decoration-color: #808000; font-weight: bold\">2790395979.py</span>:<span style=\"color: #0000ff; text-decoration-color: #0000ff\">2</span> in <span style=\"color: #00ff00; text-decoration-color: #00ff00\">&lt;module&gt;</span>                                                  <span style=\"color: #800000; text-decoration-color: #800000\">│</span>\n",
       "<span style=\"color: #800000; text-decoration-color: #800000\">│</span>                                                                                                  <span style=\"color: #800000; text-decoration-color: #800000\">│</span>\n",
       "<span style=\"color: #800000; text-decoration-color: #800000\">│</span> <span style=\"color: #800000; text-decoration-color: #800000; font-style: italic\">[Errno 2] No such file or directory: '/tmp/ipykernel_4338/2790395979.py'</span>                         <span style=\"color: #800000; text-decoration-color: #800000\">│</span>\n",
       "<span style=\"color: #800000; text-decoration-color: #800000\">│</span>                                                                                                  <span style=\"color: #800000; text-decoration-color: #800000\">│</span>\n",
       "<span style=\"color: #800000; text-decoration-color: #800000\">│</span> <span style=\"color: #bfbf7f; text-decoration-color: #bfbf7f\">/tmp/ipykernel_4338/</span><span style=\"color: #808000; text-decoration-color: #808000; font-weight: bold\">3768510918.py</span>:<span style=\"color: #0000ff; text-decoration-color: #0000ff\">3</span> in <span style=\"color: #00ff00; text-decoration-color: #00ff00\">read_nii</span>                                                  <span style=\"color: #800000; text-decoration-color: #800000\">│</span>\n",
       "<span style=\"color: #800000; text-decoration-color: #800000\">│</span>                                                                                                  <span style=\"color: #800000; text-decoration-color: #800000\">│</span>\n",
       "<span style=\"color: #800000; text-decoration-color: #800000\">│</span> <span style=\"color: #800000; text-decoration-color: #800000; font-style: italic\">[Errno 2] No such file or directory: '/tmp/ipykernel_4338/3768510918.py'</span>                         <span style=\"color: #800000; text-decoration-color: #800000\">│</span>\n",
       "<span style=\"color: #800000; text-decoration-color: #800000\">│</span>                                                                                                  <span style=\"color: #800000; text-decoration-color: #800000\">│</span>\n",
       "<span style=\"color: #800000; text-decoration-color: #800000\">│</span> <span style=\"color: #bfbf7f; text-decoration-color: #bfbf7f\">/opt/conda/lib/python3.7/site-packages/nibabel/</span><span style=\"color: #808000; text-decoration-color: #808000; font-weight: bold\">dataobj_images.py</span>:<span style=\"color: #0000ff; text-decoration-color: #0000ff\">355</span> in <span style=\"color: #00ff00; text-decoration-color: #00ff00\">get_fdata</span>                <span style=\"color: #800000; text-decoration-color: #800000\">│</span>\n",
       "<span style=\"color: #800000; text-decoration-color: #800000\">│</span>                                                                                                  <span style=\"color: #800000; text-decoration-color: #800000\">│</span>\n",
       "<span style=\"color: #800000; text-decoration-color: #800000\">│</span>   <span style=\"color: #7f7f7f; text-decoration-color: #7f7f7f\">352 │   │   # Always return requested data type</span>                                                <span style=\"color: #800000; text-decoration-color: #800000\">│</span>\n",
       "<span style=\"color: #800000; text-decoration-color: #800000\">│</span>   <span style=\"color: #7f7f7f; text-decoration-color: #7f7f7f\">353 │   │   # For array proxies, will attempt to confine data array to dtype</span>                   <span style=\"color: #800000; text-decoration-color: #800000\">│</span>\n",
       "<span style=\"color: #800000; text-decoration-color: #800000\">│</span>   <span style=\"color: #7f7f7f; text-decoration-color: #7f7f7f\">354 │   │   # during scaling</span>                                                                   <span style=\"color: #800000; text-decoration-color: #800000\">│</span>\n",
       "<span style=\"color: #800000; text-decoration-color: #800000\">│</span> <span style=\"color: #800000; text-decoration-color: #800000\">❱ </span>355 <span style=\"color: #7f7f7f; text-decoration-color: #7f7f7f\">│   │   </span>data = np.asanyarray(<span style=\"color: #00ffff; text-decoration-color: #00ffff\">self</span>._dataobj, dtype=dtype)                                   <span style=\"color: #800000; text-decoration-color: #800000\">│</span>\n",
       "<span style=\"color: #800000; text-decoration-color: #800000\">│</span>   <span style=\"color: #7f7f7f; text-decoration-color: #7f7f7f\">356 │   │   </span><span style=\"color: #0000ff; text-decoration-color: #0000ff\">if</span> caching == <span style=\"color: #808000; text-decoration-color: #808000\">'fill'</span>:                                                              <span style=\"color: #800000; text-decoration-color: #800000\">│</span>\n",
       "<span style=\"color: #800000; text-decoration-color: #800000\">│</span>   <span style=\"color: #7f7f7f; text-decoration-color: #7f7f7f\">357 │   │   │   </span><span style=\"color: #00ffff; text-decoration-color: #00ffff\">self</span>._fdata_cache = data                                                       <span style=\"color: #800000; text-decoration-color: #800000\">│</span>\n",
       "<span style=\"color: #800000; text-decoration-color: #800000\">│</span>   <span style=\"color: #7f7f7f; text-decoration-color: #7f7f7f\">358 │   │   </span><span style=\"color: #0000ff; text-decoration-color: #0000ff\">return</span> data                                                                        <span style=\"color: #800000; text-decoration-color: #800000\">│</span>\n",
       "<span style=\"color: #800000; text-decoration-color: #800000\">│</span>                                                                                                  <span style=\"color: #800000; text-decoration-color: #800000\">│</span>\n",
       "<span style=\"color: #800000; text-decoration-color: #800000\">│</span> <span style=\"color: #bfbf7f; text-decoration-color: #bfbf7f\">/opt/conda/lib/python3.7/site-packages/nibabel/</span><span style=\"color: #808000; text-decoration-color: #808000; font-weight: bold\">arrayproxy.py</span>:<span style=\"color: #0000ff; text-decoration-color: #0000ff\">370</span> in <span style=\"color: #00ff00; text-decoration-color: #00ff00\">__array__</span>                    <span style=\"color: #800000; text-decoration-color: #800000\">│</span>\n",
       "<span style=\"color: #800000; text-decoration-color: #800000\">│</span>                                                                                                  <span style=\"color: #800000; text-decoration-color: #800000\">│</span>\n",
       "<span style=\"color: #800000; text-decoration-color: #800000\">│</span>   <span style=\"color: #7f7f7f; text-decoration-color: #7f7f7f\">367 </span><span style=\"color: #bfbf7f; text-decoration-color: #bfbf7f\">│   │   </span><span style=\"color: #808000; text-decoration-color: #808000\">array</span>                                                                              <span style=\"color: #800000; text-decoration-color: #800000\">│</span>\n",
       "<span style=\"color: #800000; text-decoration-color: #800000\">│</span>   <span style=\"color: #7f7f7f; text-decoration-color: #7f7f7f\">368 </span><span style=\"color: #bfbf7f; text-decoration-color: #bfbf7f\">│   │   │   </span><span style=\"color: #808000; text-decoration-color: #808000\">Scaled image data with type `dtype`.</span>                                           <span style=\"color: #800000; text-decoration-color: #800000\">│</span>\n",
       "<span style=\"color: #800000; text-decoration-color: #800000\">│</span>   <span style=\"color: #7f7f7f; text-decoration-color: #7f7f7f\">369 </span><span style=\"color: #bfbf7f; text-decoration-color: #bfbf7f\">│   │   </span><span style=\"color: #808000; text-decoration-color: #808000\">\"\"\"</span>                                                                                <span style=\"color: #800000; text-decoration-color: #800000\">│</span>\n",
       "<span style=\"color: #800000; text-decoration-color: #800000\">│</span> <span style=\"color: #800000; text-decoration-color: #800000\">❱ </span>370 <span style=\"color: #7f7f7f; text-decoration-color: #7f7f7f\">│   │   </span>arr = <span style=\"color: #00ffff; text-decoration-color: #00ffff\">self</span>._get_scaled(dtype=dtype, slicer=())                                     <span style=\"color: #800000; text-decoration-color: #800000\">│</span>\n",
       "<span style=\"color: #800000; text-decoration-color: #800000\">│</span>   <span style=\"color: #7f7f7f; text-decoration-color: #7f7f7f\">371 │   │   </span><span style=\"color: #0000ff; text-decoration-color: #0000ff\">if</span> dtype <span style=\"color: #ff00ff; text-decoration-color: #ff00ff\">is</span> <span style=\"color: #ff00ff; text-decoration-color: #ff00ff\">not</span> <span style=\"color: #0000ff; text-decoration-color: #0000ff\">None</span>:                                                              <span style=\"color: #800000; text-decoration-color: #800000\">│</span>\n",
       "<span style=\"color: #800000; text-decoration-color: #800000\">│</span>   <span style=\"color: #7f7f7f; text-decoration-color: #7f7f7f\">372 │   │   │   </span>arr = arr.astype(dtype, copy=<span style=\"color: #0000ff; text-decoration-color: #0000ff\">False</span>)                                            <span style=\"color: #800000; text-decoration-color: #800000\">│</span>\n",
       "<span style=\"color: #800000; text-decoration-color: #800000\">│</span>   <span style=\"color: #7f7f7f; text-decoration-color: #7f7f7f\">373 │   │   </span><span style=\"color: #0000ff; text-decoration-color: #0000ff\">return</span> arr                                                                         <span style=\"color: #800000; text-decoration-color: #800000\">│</span>\n",
       "<span style=\"color: #800000; text-decoration-color: #800000\">│</span>                                                                                                  <span style=\"color: #800000; text-decoration-color: #800000\">│</span>\n",
       "<span style=\"color: #800000; text-decoration-color: #800000\">│</span> <span style=\"color: #bfbf7f; text-decoration-color: #bfbf7f\">/opt/conda/lib/python3.7/site-packages/nibabel/</span><span style=\"color: #808000; text-decoration-color: #808000; font-weight: bold\">arrayproxy.py</span>:<span style=\"color: #0000ff; text-decoration-color: #0000ff\">337</span> in <span style=\"color: #00ff00; text-decoration-color: #00ff00\">_get_scaled</span>                  <span style=\"color: #800000; text-decoration-color: #800000\">│</span>\n",
       "<span style=\"color: #800000; text-decoration-color: #800000\">│</span>                                                                                                  <span style=\"color: #800000; text-decoration-color: #800000\">│</span>\n",
       "<span style=\"color: #800000; text-decoration-color: #800000\">│</span>   <span style=\"color: #7f7f7f; text-decoration-color: #7f7f7f\">334 │   │   </span><span style=\"color: #0000ff; text-decoration-color: #0000ff\">if</span> np.can_cast(scl_inter, use_dtype):                                              <span style=\"color: #800000; text-decoration-color: #800000\">│</span>\n",
       "<span style=\"color: #800000; text-decoration-color: #800000\">│</span>   <span style=\"color: #7f7f7f; text-decoration-color: #7f7f7f\">335 │   │   │   </span>scl_inter = scl_inter.astype(use_dtype)                                        <span style=\"color: #800000; text-decoration-color: #800000\">│</span>\n",
       "<span style=\"color: #800000; text-decoration-color: #800000\">│</span>   <span style=\"color: #7f7f7f; text-decoration-color: #7f7f7f\">336 │   │   # Read array and upcast as necessary for big slopes, intercepts</span>                    <span style=\"color: #800000; text-decoration-color: #800000\">│</span>\n",
       "<span style=\"color: #800000; text-decoration-color: #800000\">│</span> <span style=\"color: #800000; text-decoration-color: #800000\">❱ </span>337 <span style=\"color: #7f7f7f; text-decoration-color: #7f7f7f\">│   │   </span>scaled = apply_read_scaling(<span style=\"color: #00ffff; text-decoration-color: #00ffff\">self</span>._get_unscaled(slicer=slicer), scl_slope, scl_in   <span style=\"color: #800000; text-decoration-color: #800000\">│</span>\n",
       "<span style=\"color: #800000; text-decoration-color: #800000\">│</span>   <span style=\"color: #7f7f7f; text-decoration-color: #7f7f7f\">338 │   │   </span><span style=\"color: #0000ff; text-decoration-color: #0000ff\">if</span> dtype <span style=\"color: #ff00ff; text-decoration-color: #ff00ff\">is</span> <span style=\"color: #ff00ff; text-decoration-color: #ff00ff\">not</span> <span style=\"color: #0000ff; text-decoration-color: #0000ff\">None</span>:                                                              <span style=\"color: #800000; text-decoration-color: #800000\">│</span>\n",
       "<span style=\"color: #800000; text-decoration-color: #800000\">│</span>   <span style=\"color: #7f7f7f; text-decoration-color: #7f7f7f\">339 │   │   │   </span>scaled = scaled.astype(np.promote_types(scaled.dtype, dtype), copy=<span style=\"color: #0000ff; text-decoration-color: #0000ff\">False</span>)      <span style=\"color: #800000; text-decoration-color: #800000\">│</span>\n",
       "<span style=\"color: #800000; text-decoration-color: #800000\">│</span>   <span style=\"color: #7f7f7f; text-decoration-color: #7f7f7f\">340 │   │   </span><span style=\"color: #0000ff; text-decoration-color: #0000ff\">return</span> scaled                                                                      <span style=\"color: #800000; text-decoration-color: #800000\">│</span>\n",
       "<span style=\"color: #800000; text-decoration-color: #800000\">│</span>                                                                                                  <span style=\"color: #800000; text-decoration-color: #800000\">│</span>\n",
       "<span style=\"color: #800000; text-decoration-color: #800000\">│</span> <span style=\"color: #bfbf7f; text-decoration-color: #bfbf7f\">/opt/conda/lib/python3.7/site-packages/nibabel/</span><span style=\"color: #808000; text-decoration-color: #808000; font-weight: bold\">arrayproxy.py</span>:<span style=\"color: #0000ff; text-decoration-color: #0000ff\">316</span> in <span style=\"color: #00ff00; text-decoration-color: #00ff00\">_get_unscaled</span>                <span style=\"color: #800000; text-decoration-color: #800000\">│</span>\n",
       "<span style=\"color: #800000; text-decoration-color: #800000\">│</span>                                                                                                  <span style=\"color: #800000; text-decoration-color: #800000\">│</span>\n",
       "<span style=\"color: #800000; text-decoration-color: #800000\">│</span>   <span style=\"color: #7f7f7f; text-decoration-color: #7f7f7f\">313 │   │   │   │   │   │   │   │   │      </span>fileobj,                                            <span style=\"color: #800000; text-decoration-color: #800000\">│</span>\n",
       "<span style=\"color: #800000; text-decoration-color: #800000\">│</span>   <span style=\"color: #7f7f7f; text-decoration-color: #7f7f7f\">314 │   │   │   │   │   │   │   │   │      </span>offset=<span style=\"color: #00ffff; text-decoration-color: #00ffff\">self</span>._offset,                                <span style=\"color: #800000; text-decoration-color: #800000\">│</span>\n",
       "<span style=\"color: #800000; text-decoration-color: #800000\">│</span>   <span style=\"color: #7f7f7f; text-decoration-color: #7f7f7f\">315 │   │   │   │   │   │   │   │   │      </span>order=<span style=\"color: #00ffff; text-decoration-color: #00ffff\">self</span>.order,                                   <span style=\"color: #800000; text-decoration-color: #800000\">│</span>\n",
       "<span style=\"color: #800000; text-decoration-color: #800000\">│</span> <span style=\"color: #800000; text-decoration-color: #800000\">❱ </span>316 <span style=\"color: #7f7f7f; text-decoration-color: #7f7f7f\">│   │   │   │   │   │   │   │   │      </span>mmap=<span style=\"color: #00ffff; text-decoration-color: #00ffff\">self</span>._mmap)                                    <span style=\"color: #800000; text-decoration-color: #800000\">│</span>\n",
       "<span style=\"color: #800000; text-decoration-color: #800000\">│</span>   <span style=\"color: #7f7f7f; text-decoration-color: #7f7f7f\">317 │   │   </span><span style=\"color: #0000ff; text-decoration-color: #0000ff\">with</span> <span style=\"color: #00ffff; text-decoration-color: #00ffff\">self</span>._get_fileobj() <span style=\"color: #0000ff; text-decoration-color: #0000ff\">as</span> fileobj:                                               <span style=\"color: #800000; text-decoration-color: #800000\">│</span>\n",
       "<span style=\"color: #800000; text-decoration-color: #800000\">│</span>   <span style=\"color: #7f7f7f; text-decoration-color: #7f7f7f\">318 │   │   │   </span><span style=\"color: #0000ff; text-decoration-color: #0000ff\">return</span> fileslice(fileobj,                                                      <span style=\"color: #800000; text-decoration-color: #800000\">│</span>\n",
       "<span style=\"color: #800000; text-decoration-color: #800000\">│</span>   <span style=\"color: #7f7f7f; text-decoration-color: #7f7f7f\">319 │   │   │   │   │   │   │    </span>slicer,                                                       <span style=\"color: #800000; text-decoration-color: #800000\">│</span>\n",
       "<span style=\"color: #800000; text-decoration-color: #800000\">│</span>                                                                                                  <span style=\"color: #800000; text-decoration-color: #800000\">│</span>\n",
       "<span style=\"color: #800000; text-decoration-color: #800000\">│</span> <span style=\"color: #bfbf7f; text-decoration-color: #bfbf7f\">/opt/conda/lib/python3.7/site-packages/nibabel/</span><span style=\"color: #808000; text-decoration-color: #808000; font-weight: bold\">volumeutils.py</span>:<span style=\"color: #0000ff; text-decoration-color: #0000ff\">461</span> in <span style=\"color: #00ff00; text-decoration-color: #00ff00\">array_from_file</span>             <span style=\"color: #800000; text-decoration-color: #800000\">│</span>\n",
       "<span style=\"color: #800000; text-decoration-color: #800000\">│</span>                                                                                                  <span style=\"color: #800000; text-decoration-color: #800000\">│</span>\n",
       "<span style=\"color: #800000; text-decoration-color: #800000\">│</span>   <span style=\"color: #7f7f7f; text-decoration-color: #7f7f7f\"> 458 │   </span>infile.seek(offset)                                                                   <span style=\"color: #800000; text-decoration-color: #800000\">│</span>\n",
       "<span style=\"color: #800000; text-decoration-color: #800000\">│</span>   <span style=\"color: #7f7f7f; text-decoration-color: #7f7f7f\"> 459 │   </span><span style=\"color: #0000ff; text-decoration-color: #0000ff\">if</span> <span style=\"color: #00ffff; text-decoration-color: #00ffff\">hasattr</span>(infile, <span style=\"color: #808000; text-decoration-color: #808000\">'readinto'</span>):                                                       <span style=\"color: #800000; text-decoration-color: #800000\">│</span>\n",
       "<span style=\"color: #800000; text-decoration-color: #800000\">│</span>   <span style=\"color: #7f7f7f; text-decoration-color: #7f7f7f\"> 460 │   │   </span>data_bytes = <span style=\"color: #00ffff; text-decoration-color: #00ffff\">bytearray</span>(n_bytes)                                                   <span style=\"color: #800000; text-decoration-color: #800000\">│</span>\n",
       "<span style=\"color: #800000; text-decoration-color: #800000\">│</span> <span style=\"color: #800000; text-decoration-color: #800000\">❱ </span> 461 <span style=\"color: #7f7f7f; text-decoration-color: #7f7f7f\">│   │   </span>n_read = infile.readinto(data_bytes)                                              <span style=\"color: #800000; text-decoration-color: #800000\">│</span>\n",
       "<span style=\"color: #800000; text-decoration-color: #800000\">│</span>   <span style=\"color: #7f7f7f; text-decoration-color: #7f7f7f\"> 462 │   │   </span>needs_copy = <span style=\"color: #0000ff; text-decoration-color: #0000ff\">False</span>                                                                <span style=\"color: #800000; text-decoration-color: #800000\">│</span>\n",
       "<span style=\"color: #800000; text-decoration-color: #800000\">│</span>   <span style=\"color: #7f7f7f; text-decoration-color: #7f7f7f\"> 463 │   </span><span style=\"color: #0000ff; text-decoration-color: #0000ff\">else</span>:                                                                                 <span style=\"color: #800000; text-decoration-color: #800000\">│</span>\n",
       "<span style=\"color: #800000; text-decoration-color: #800000\">│</span>   <span style=\"color: #7f7f7f; text-decoration-color: #7f7f7f\"> 464 │   │   </span>data_bytes = infile.read(n_bytes)                                                 <span style=\"color: #800000; text-decoration-color: #800000\">│</span>\n",
       "<span style=\"color: #800000; text-decoration-color: #800000\">│</span>                                                                                                  <span style=\"color: #800000; text-decoration-color: #800000\">│</span>\n",
       "<span style=\"color: #800000; text-decoration-color: #800000\">│</span> <span style=\"color: #bfbf7f; text-decoration-color: #bfbf7f\">/opt/conda/lib/python3.7/</span><span style=\"color: #808000; text-decoration-color: #808000; font-weight: bold\">gzip.py</span>:<span style=\"color: #0000ff; text-decoration-color: #0000ff\">287</span> in <span style=\"color: #00ff00; text-decoration-color: #00ff00\">read</span>                                                     <span style=\"color: #800000; text-decoration-color: #800000\">│</span>\n",
       "<span style=\"color: #800000; text-decoration-color: #800000\">│</span>                                                                                                  <span style=\"color: #800000; text-decoration-color: #800000\">│</span>\n",
       "<span style=\"color: #800000; text-decoration-color: #800000\">│</span>   <span style=\"color: #7f7f7f; text-decoration-color: #7f7f7f\">284 │   │   </span><span style=\"color: #0000ff; text-decoration-color: #0000ff\">if</span> <span style=\"color: #00ffff; text-decoration-color: #00ffff\">self</span>.mode != READ:                                                              <span style=\"color: #800000; text-decoration-color: #800000\">│</span>\n",
       "<span style=\"color: #800000; text-decoration-color: #800000\">│</span>   <span style=\"color: #7f7f7f; text-decoration-color: #7f7f7f\">285 │   │   │   </span><span style=\"color: #0000ff; text-decoration-color: #0000ff\">import</span> <span style=\"color: #00ffff; text-decoration-color: #00ffff; text-decoration: underline\">errno</span>                                                                   <span style=\"color: #800000; text-decoration-color: #800000\">│</span>\n",
       "<span style=\"color: #800000; text-decoration-color: #800000\">│</span>   <span style=\"color: #7f7f7f; text-decoration-color: #7f7f7f\">286 │   │   │   </span><span style=\"color: #0000ff; text-decoration-color: #0000ff\">raise</span> <span style=\"color: #00ffff; text-decoration-color: #00ffff\">OSError</span>(errno.EBADF, <span style=\"color: #808000; text-decoration-color: #808000\">\"read() on write-only GzipFile object\"</span>)             <span style=\"color: #800000; text-decoration-color: #800000\">│</span>\n",
       "<span style=\"color: #800000; text-decoration-color: #800000\">│</span> <span style=\"color: #800000; text-decoration-color: #800000\">❱ </span>287 <span style=\"color: #7f7f7f; text-decoration-color: #7f7f7f\">│   │   </span><span style=\"color: #0000ff; text-decoration-color: #0000ff\">return</span> <span style=\"color: #00ffff; text-decoration-color: #00ffff\">self</span>._buffer.read(size)                                                     <span style=\"color: #800000; text-decoration-color: #800000\">│</span>\n",
       "<span style=\"color: #800000; text-decoration-color: #800000\">│</span>   <span style=\"color: #7f7f7f; text-decoration-color: #7f7f7f\">288 │   </span>                                                                                       <span style=\"color: #800000; text-decoration-color: #800000\">│</span>\n",
       "<span style=\"color: #800000; text-decoration-color: #800000\">│</span>   <span style=\"color: #7f7f7f; text-decoration-color: #7f7f7f\">289 │   </span><span style=\"color: #0000ff; text-decoration-color: #0000ff\">def</span> <span style=\"color: #00ff00; text-decoration-color: #00ff00\">read1</span>(<span style=\"color: #00ffff; text-decoration-color: #00ffff\">self</span>, size=-<span style=\"color: #0000ff; text-decoration-color: #0000ff\">1</span>):                                                              <span style=\"color: #800000; text-decoration-color: #800000\">│</span>\n",
       "<span style=\"color: #800000; text-decoration-color: #800000\">│</span>   <span style=\"color: #7f7f7f; text-decoration-color: #7f7f7f\">290 │   │   </span><span style=\"color: #808000; text-decoration-color: #808000\">\"\"\"Implements BufferedIOBase.read1()</span>                                               <span style=\"color: #800000; text-decoration-color: #800000\">│</span>\n",
       "<span style=\"color: #800000; text-decoration-color: #800000\">│</span>                                                                                                  <span style=\"color: #800000; text-decoration-color: #800000\">│</span>\n",
       "<span style=\"color: #800000; text-decoration-color: #800000\">│</span> <span style=\"color: #bfbf7f; text-decoration-color: #bfbf7f\">/opt/conda/lib/python3.7/</span><span style=\"color: #808000; text-decoration-color: #808000; font-weight: bold\">_compression.py</span>:<span style=\"color: #0000ff; text-decoration-color: #0000ff\">68</span> in <span style=\"color: #00ff00; text-decoration-color: #00ff00\">readinto</span>                                          <span style=\"color: #800000; text-decoration-color: #800000\">│</span>\n",
       "<span style=\"color: #800000; text-decoration-color: #800000\">│</span>                                                                                                  <span style=\"color: #800000; text-decoration-color: #800000\">│</span>\n",
       "<span style=\"color: #800000; text-decoration-color: #800000\">│</span>   <span style=\"color: #7f7f7f; text-decoration-color: #7f7f7f\"> 65 │   </span>                                                                                       <span style=\"color: #800000; text-decoration-color: #800000\">│</span>\n",
       "<span style=\"color: #800000; text-decoration-color: #800000\">│</span>   <span style=\"color: #7f7f7f; text-decoration-color: #7f7f7f\"> 66 │   </span><span style=\"color: #0000ff; text-decoration-color: #0000ff\">def</span> <span style=\"color: #00ff00; text-decoration-color: #00ff00\">readinto</span>(<span style=\"color: #00ffff; text-decoration-color: #00ffff\">self</span>, b):                                                                 <span style=\"color: #800000; text-decoration-color: #800000\">│</span>\n",
       "<span style=\"color: #800000; text-decoration-color: #800000\">│</span>   <span style=\"color: #7f7f7f; text-decoration-color: #7f7f7f\"> 67 │   │   </span><span style=\"color: #0000ff; text-decoration-color: #0000ff\">with</span> <span style=\"color: #00ffff; text-decoration-color: #00ffff\">memoryview</span>(b) <span style=\"color: #0000ff; text-decoration-color: #0000ff\">as</span> view, view.cast(<span style=\"color: #808000; text-decoration-color: #808000\">\"B\"</span>) <span style=\"color: #0000ff; text-decoration-color: #0000ff\">as</span> byte_view:                           <span style=\"color: #800000; text-decoration-color: #800000\">│</span>\n",
       "<span style=\"color: #800000; text-decoration-color: #800000\">│</span> <span style=\"color: #800000; text-decoration-color: #800000\">❱ </span> 68 <span style=\"color: #7f7f7f; text-decoration-color: #7f7f7f\">│   │   │   </span>data = <span style=\"color: #00ffff; text-decoration-color: #00ffff\">self</span>.read(<span style=\"color: #00ffff; text-decoration-color: #00ffff\">len</span>(byte_view))                                               <span style=\"color: #800000; text-decoration-color: #800000\">│</span>\n",
       "<span style=\"color: #800000; text-decoration-color: #800000\">│</span>   <span style=\"color: #7f7f7f; text-decoration-color: #7f7f7f\"> 69 │   │   │   </span>byte_view[:<span style=\"color: #00ffff; text-decoration-color: #00ffff\">len</span>(data)] = data                                                   <span style=\"color: #800000; text-decoration-color: #800000\">│</span>\n",
       "<span style=\"color: #800000; text-decoration-color: #800000\">│</span>   <span style=\"color: #7f7f7f; text-decoration-color: #7f7f7f\"> 70 │   │   </span><span style=\"color: #0000ff; text-decoration-color: #0000ff\">return</span> <span style=\"color: #00ffff; text-decoration-color: #00ffff\">len</span>(data)                                                                   <span style=\"color: #800000; text-decoration-color: #800000\">│</span>\n",
       "<span style=\"color: #800000; text-decoration-color: #800000\">│</span>   <span style=\"color: #7f7f7f; text-decoration-color: #7f7f7f\"> 71 </span>                                                                                           <span style=\"color: #800000; text-decoration-color: #800000\">│</span>\n",
       "<span style=\"color: #800000; text-decoration-color: #800000\">│</span>                                                                                                  <span style=\"color: #800000; text-decoration-color: #800000\">│</span>\n",
       "<span style=\"color: #800000; text-decoration-color: #800000\">│</span> <span style=\"color: #bfbf7f; text-decoration-color: #bfbf7f\">/opt/conda/lib/python3.7/</span><span style=\"color: #808000; text-decoration-color: #808000; font-weight: bold\">gzip.py</span>:<span style=\"color: #0000ff; text-decoration-color: #0000ff\">496</span> in <span style=\"color: #00ff00; text-decoration-color: #00ff00\">read</span>                                                     <span style=\"color: #800000; text-decoration-color: #800000\">│</span>\n",
       "<span style=\"color: #800000; text-decoration-color: #800000\">│</span>                                                                                                  <span style=\"color: #800000; text-decoration-color: #800000\">│</span>\n",
       "<span style=\"color: #800000; text-decoration-color: #800000\">│</span>   <span style=\"color: #7f7f7f; text-decoration-color: #7f7f7f\">493 │   │   │   │   </span><span style=\"color: #0000ff; text-decoration-color: #0000ff\">raise</span> <span style=\"color: #00ffff; text-decoration-color: #00ffff\">EOFError</span>(<span style=\"color: #808000; text-decoration-color: #808000\">\"Compressed file ended before the \"</span>                         <span style=\"color: #800000; text-decoration-color: #800000\">│</span>\n",
       "<span style=\"color: #800000; text-decoration-color: #800000\">│</span>   <span style=\"color: #7f7f7f; text-decoration-color: #7f7f7f\">494 │   │   │   │   │   │   │      </span><span style=\"color: #808000; text-decoration-color: #808000\">\"end-of-stream marker was reached\"</span>)                         <span style=\"color: #800000; text-decoration-color: #800000\">│</span>\n",
       "<span style=\"color: #800000; text-decoration-color: #800000\">│</span>   <span style=\"color: #7f7f7f; text-decoration-color: #7f7f7f\">495 │   │   </span>                                                                                   <span style=\"color: #800000; text-decoration-color: #800000\">│</span>\n",
       "<span style=\"color: #800000; text-decoration-color: #800000\">│</span> <span style=\"color: #800000; text-decoration-color: #800000\">❱ </span>496 <span style=\"color: #7f7f7f; text-decoration-color: #7f7f7f\">│   │   </span><span style=\"color: #00ffff; text-decoration-color: #00ffff\">self</span>._add_read_data( uncompress )                                                  <span style=\"color: #800000; text-decoration-color: #800000\">│</span>\n",
       "<span style=\"color: #800000; text-decoration-color: #800000\">│</span>   <span style=\"color: #7f7f7f; text-decoration-color: #7f7f7f\">497 │   │   </span><span style=\"color: #00ffff; text-decoration-color: #00ffff\">self</span>._pos += <span style=\"color: #00ffff; text-decoration-color: #00ffff\">len</span>(uncompress)                                                       <span style=\"color: #800000; text-decoration-color: #800000\">│</span>\n",
       "<span style=\"color: #800000; text-decoration-color: #800000\">│</span>   <span style=\"color: #7f7f7f; text-decoration-color: #7f7f7f\">498 │   │   </span><span style=\"color: #0000ff; text-decoration-color: #0000ff\">return</span> uncompress                                                                  <span style=\"color: #800000; text-decoration-color: #800000\">│</span>\n",
       "<span style=\"color: #800000; text-decoration-color: #800000\">│</span>   <span style=\"color: #7f7f7f; text-decoration-color: #7f7f7f\">499 </span>                                                                                           <span style=\"color: #800000; text-decoration-color: #800000\">│</span>\n",
       "<span style=\"color: #800000; text-decoration-color: #800000\">│</span>                                                                                                  <span style=\"color: #800000; text-decoration-color: #800000\">│</span>\n",
       "<span style=\"color: #800000; text-decoration-color: #800000\">│</span> <span style=\"color: #bfbf7f; text-decoration-color: #bfbf7f\">/opt/conda/lib/python3.7/</span><span style=\"color: #808000; text-decoration-color: #808000; font-weight: bold\">gzip.py</span>:<span style=\"color: #0000ff; text-decoration-color: #0000ff\">501</span> in <span style=\"color: #00ff00; text-decoration-color: #00ff00\">_add_read_data</span>                                           <span style=\"color: #800000; text-decoration-color: #800000\">│</span>\n",
       "<span style=\"color: #800000; text-decoration-color: #800000\">│</span>                                                                                                  <span style=\"color: #800000; text-decoration-color: #800000\">│</span>\n",
       "<span style=\"color: #800000; text-decoration-color: #800000\">│</span>   <span style=\"color: #7f7f7f; text-decoration-color: #7f7f7f\">498 │   │   </span><span style=\"color: #0000ff; text-decoration-color: #0000ff\">return</span> uncompress                                                                  <span style=\"color: #800000; text-decoration-color: #800000\">│</span>\n",
       "<span style=\"color: #800000; text-decoration-color: #800000\">│</span>   <span style=\"color: #7f7f7f; text-decoration-color: #7f7f7f\">499 │   </span>                                                                                       <span style=\"color: #800000; text-decoration-color: #800000\">│</span>\n",
       "<span style=\"color: #800000; text-decoration-color: #800000\">│</span>   <span style=\"color: #7f7f7f; text-decoration-color: #7f7f7f\">500 │   </span><span style=\"color: #0000ff; text-decoration-color: #0000ff\">def</span> <span style=\"color: #00ff00; text-decoration-color: #00ff00\">_add_read_data</span>(<span style=\"color: #00ffff; text-decoration-color: #00ffff\">self</span>, data):                                                        <span style=\"color: #800000; text-decoration-color: #800000\">│</span>\n",
       "<span style=\"color: #800000; text-decoration-color: #800000\">│</span> <span style=\"color: #800000; text-decoration-color: #800000\">❱ </span>501 <span style=\"color: #7f7f7f; text-decoration-color: #7f7f7f\">│   │   </span><span style=\"color: #00ffff; text-decoration-color: #00ffff\">self</span>._crc = zlib.crc32(data, <span style=\"color: #00ffff; text-decoration-color: #00ffff\">self</span>._crc)                                            <span style=\"color: #800000; text-decoration-color: #800000\">│</span>\n",
       "<span style=\"color: #800000; text-decoration-color: #800000\">│</span>   <span style=\"color: #7f7f7f; text-decoration-color: #7f7f7f\">502 │   │   </span><span style=\"color: #00ffff; text-decoration-color: #00ffff\">self</span>._stream_size = <span style=\"color: #00ffff; text-decoration-color: #00ffff\">self</span>._stream_size + <span style=\"color: #00ffff; text-decoration-color: #00ffff\">len</span>(data)                                  <span style=\"color: #800000; text-decoration-color: #800000\">│</span>\n",
       "<span style=\"color: #800000; text-decoration-color: #800000\">│</span>   <span style=\"color: #7f7f7f; text-decoration-color: #7f7f7f\">503 │   </span>                                                                                       <span style=\"color: #800000; text-decoration-color: #800000\">│</span>\n",
       "<span style=\"color: #800000; text-decoration-color: #800000\">│</span>   <span style=\"color: #7f7f7f; text-decoration-color: #7f7f7f\">504 │   </span><span style=\"color: #0000ff; text-decoration-color: #0000ff\">def</span> <span style=\"color: #00ff00; text-decoration-color: #00ff00\">_read_eof</span>(<span style=\"color: #00ffff; text-decoration-color: #00ffff\">self</span>):                                                                   <span style=\"color: #800000; text-decoration-color: #800000\">│</span>\n",
       "<span style=\"color: #800000; text-decoration-color: #800000\">╰──────────────────────────────────────────────────────────────────────────────────────────────────╯</span>\n",
       "<span style=\"color: #ff0000; text-decoration-color: #ff0000; font-weight: bold\">KeyboardInterrupt</span>\n",
       "</pre>\n"
      ],
      "text/plain": [
       "\u001b[31m╭─\u001b[0m\u001b[31m──────────────────────────────\u001b[0m\u001b[31m \u001b[0m\u001b[1;31mTraceback \u001b[0m\u001b[1;2;31m(most recent call last)\u001b[0m\u001b[31m \u001b[0m\u001b[31m───────────────────────────────\u001b[0m\u001b[31m─╮\u001b[0m\n",
       "\u001b[31m│\u001b[0m \u001b[2;33m/tmp/ipykernel_4338/\u001b[0m\u001b[1;33m2790395979.py\u001b[0m:\u001b[94m2\u001b[0m in \u001b[92m<module>\u001b[0m                                                  \u001b[31m│\u001b[0m\n",
       "\u001b[31m│\u001b[0m                                                                                                  \u001b[31m│\u001b[0m\n",
       "\u001b[31m│\u001b[0m \u001b[3;31m[Errno 2] No such file or directory: '/tmp/ipykernel_4338/2790395979.py'\u001b[0m                         \u001b[31m│\u001b[0m\n",
       "\u001b[31m│\u001b[0m                                                                                                  \u001b[31m│\u001b[0m\n",
       "\u001b[31m│\u001b[0m \u001b[2;33m/tmp/ipykernel_4338/\u001b[0m\u001b[1;33m3768510918.py\u001b[0m:\u001b[94m3\u001b[0m in \u001b[92mread_nii\u001b[0m                                                  \u001b[31m│\u001b[0m\n",
       "\u001b[31m│\u001b[0m                                                                                                  \u001b[31m│\u001b[0m\n",
       "\u001b[31m│\u001b[0m \u001b[3;31m[Errno 2] No such file or directory: '/tmp/ipykernel_4338/3768510918.py'\u001b[0m                         \u001b[31m│\u001b[0m\n",
       "\u001b[31m│\u001b[0m                                                                                                  \u001b[31m│\u001b[0m\n",
       "\u001b[31m│\u001b[0m \u001b[2;33m/opt/conda/lib/python3.7/site-packages/nibabel/\u001b[0m\u001b[1;33mdataobj_images.py\u001b[0m:\u001b[94m355\u001b[0m in \u001b[92mget_fdata\u001b[0m                \u001b[31m│\u001b[0m\n",
       "\u001b[31m│\u001b[0m                                                                                                  \u001b[31m│\u001b[0m\n",
       "\u001b[31m│\u001b[0m   \u001b[2m352 \u001b[0m\u001b[2m│   │   \u001b[0m\u001b[2m# Always return requested data type\u001b[0m                                                \u001b[31m│\u001b[0m\n",
       "\u001b[31m│\u001b[0m   \u001b[2m353 \u001b[0m\u001b[2m│   │   \u001b[0m\u001b[2m# For array proxies, will attempt to confine data array to dtype\u001b[0m                   \u001b[31m│\u001b[0m\n",
       "\u001b[31m│\u001b[0m   \u001b[2m354 \u001b[0m\u001b[2m│   │   \u001b[0m\u001b[2m# during scaling\u001b[0m                                                                   \u001b[31m│\u001b[0m\n",
       "\u001b[31m│\u001b[0m \u001b[31m❱ \u001b[0m355 \u001b[2m│   │   \u001b[0mdata = np.asanyarray(\u001b[96mself\u001b[0m._dataobj, dtype=dtype)                                   \u001b[31m│\u001b[0m\n",
       "\u001b[31m│\u001b[0m   \u001b[2m356 \u001b[0m\u001b[2m│   │   \u001b[0m\u001b[94mif\u001b[0m caching == \u001b[33m'\u001b[0m\u001b[33mfill\u001b[0m\u001b[33m'\u001b[0m:                                                              \u001b[31m│\u001b[0m\n",
       "\u001b[31m│\u001b[0m   \u001b[2m357 \u001b[0m\u001b[2m│   │   │   \u001b[0m\u001b[96mself\u001b[0m._fdata_cache = data                                                       \u001b[31m│\u001b[0m\n",
       "\u001b[31m│\u001b[0m   \u001b[2m358 \u001b[0m\u001b[2m│   │   \u001b[0m\u001b[94mreturn\u001b[0m data                                                                        \u001b[31m│\u001b[0m\n",
       "\u001b[31m│\u001b[0m                                                                                                  \u001b[31m│\u001b[0m\n",
       "\u001b[31m│\u001b[0m \u001b[2;33m/opt/conda/lib/python3.7/site-packages/nibabel/\u001b[0m\u001b[1;33marrayproxy.py\u001b[0m:\u001b[94m370\u001b[0m in \u001b[92m__array__\u001b[0m                    \u001b[31m│\u001b[0m\n",
       "\u001b[31m│\u001b[0m                                                                                                  \u001b[31m│\u001b[0m\n",
       "\u001b[31m│\u001b[0m   \u001b[2m367 \u001b[0m\u001b[2;33m│   │   \u001b[0m\u001b[33marray\u001b[0m                                                                              \u001b[31m│\u001b[0m\n",
       "\u001b[31m│\u001b[0m   \u001b[2m368 \u001b[0m\u001b[2;33m│   │   │   \u001b[0m\u001b[33mScaled image data with type `dtype`.\u001b[0m                                           \u001b[31m│\u001b[0m\n",
       "\u001b[31m│\u001b[0m   \u001b[2m369 \u001b[0m\u001b[2;33m│   │   \u001b[0m\u001b[33m\"\"\"\u001b[0m                                                                                \u001b[31m│\u001b[0m\n",
       "\u001b[31m│\u001b[0m \u001b[31m❱ \u001b[0m370 \u001b[2m│   │   \u001b[0marr = \u001b[96mself\u001b[0m._get_scaled(dtype=dtype, slicer=())                                     \u001b[31m│\u001b[0m\n",
       "\u001b[31m│\u001b[0m   \u001b[2m371 \u001b[0m\u001b[2m│   │   \u001b[0m\u001b[94mif\u001b[0m dtype \u001b[95mis\u001b[0m \u001b[95mnot\u001b[0m \u001b[94mNone\u001b[0m:                                                              \u001b[31m│\u001b[0m\n",
       "\u001b[31m│\u001b[0m   \u001b[2m372 \u001b[0m\u001b[2m│   │   │   \u001b[0marr = arr.astype(dtype, copy=\u001b[94mFalse\u001b[0m)                                            \u001b[31m│\u001b[0m\n",
       "\u001b[31m│\u001b[0m   \u001b[2m373 \u001b[0m\u001b[2m│   │   \u001b[0m\u001b[94mreturn\u001b[0m arr                                                                         \u001b[31m│\u001b[0m\n",
       "\u001b[31m│\u001b[0m                                                                                                  \u001b[31m│\u001b[0m\n",
       "\u001b[31m│\u001b[0m \u001b[2;33m/opt/conda/lib/python3.7/site-packages/nibabel/\u001b[0m\u001b[1;33marrayproxy.py\u001b[0m:\u001b[94m337\u001b[0m in \u001b[92m_get_scaled\u001b[0m                  \u001b[31m│\u001b[0m\n",
       "\u001b[31m│\u001b[0m                                                                                                  \u001b[31m│\u001b[0m\n",
       "\u001b[31m│\u001b[0m   \u001b[2m334 \u001b[0m\u001b[2m│   │   \u001b[0m\u001b[94mif\u001b[0m np.can_cast(scl_inter, use_dtype):                                              \u001b[31m│\u001b[0m\n",
       "\u001b[31m│\u001b[0m   \u001b[2m335 \u001b[0m\u001b[2m│   │   │   \u001b[0mscl_inter = scl_inter.astype(use_dtype)                                        \u001b[31m│\u001b[0m\n",
       "\u001b[31m│\u001b[0m   \u001b[2m336 \u001b[0m\u001b[2m│   │   \u001b[0m\u001b[2m# Read array and upcast as necessary for big slopes, intercepts\u001b[0m                    \u001b[31m│\u001b[0m\n",
       "\u001b[31m│\u001b[0m \u001b[31m❱ \u001b[0m337 \u001b[2m│   │   \u001b[0mscaled = apply_read_scaling(\u001b[96mself\u001b[0m._get_unscaled(slicer=slicer), scl_slope, scl_in   \u001b[31m│\u001b[0m\n",
       "\u001b[31m│\u001b[0m   \u001b[2m338 \u001b[0m\u001b[2m│   │   \u001b[0m\u001b[94mif\u001b[0m dtype \u001b[95mis\u001b[0m \u001b[95mnot\u001b[0m \u001b[94mNone\u001b[0m:                                                              \u001b[31m│\u001b[0m\n",
       "\u001b[31m│\u001b[0m   \u001b[2m339 \u001b[0m\u001b[2m│   │   │   \u001b[0mscaled = scaled.astype(np.promote_types(scaled.dtype, dtype), copy=\u001b[94mFalse\u001b[0m)      \u001b[31m│\u001b[0m\n",
       "\u001b[31m│\u001b[0m   \u001b[2m340 \u001b[0m\u001b[2m│   │   \u001b[0m\u001b[94mreturn\u001b[0m scaled                                                                      \u001b[31m│\u001b[0m\n",
       "\u001b[31m│\u001b[0m                                                                                                  \u001b[31m│\u001b[0m\n",
       "\u001b[31m│\u001b[0m \u001b[2;33m/opt/conda/lib/python3.7/site-packages/nibabel/\u001b[0m\u001b[1;33marrayproxy.py\u001b[0m:\u001b[94m316\u001b[0m in \u001b[92m_get_unscaled\u001b[0m                \u001b[31m│\u001b[0m\n",
       "\u001b[31m│\u001b[0m                                                                                                  \u001b[31m│\u001b[0m\n",
       "\u001b[31m│\u001b[0m   \u001b[2m313 \u001b[0m\u001b[2m│   │   │   │   │   │   │   │   │      \u001b[0mfileobj,                                            \u001b[31m│\u001b[0m\n",
       "\u001b[31m│\u001b[0m   \u001b[2m314 \u001b[0m\u001b[2m│   │   │   │   │   │   │   │   │      \u001b[0moffset=\u001b[96mself\u001b[0m._offset,                                \u001b[31m│\u001b[0m\n",
       "\u001b[31m│\u001b[0m   \u001b[2m315 \u001b[0m\u001b[2m│   │   │   │   │   │   │   │   │      \u001b[0morder=\u001b[96mself\u001b[0m.order,                                   \u001b[31m│\u001b[0m\n",
       "\u001b[31m│\u001b[0m \u001b[31m❱ \u001b[0m316 \u001b[2m│   │   │   │   │   │   │   │   │      \u001b[0mmmap=\u001b[96mself\u001b[0m._mmap)                                    \u001b[31m│\u001b[0m\n",
       "\u001b[31m│\u001b[0m   \u001b[2m317 \u001b[0m\u001b[2m│   │   \u001b[0m\u001b[94mwith\u001b[0m \u001b[96mself\u001b[0m._get_fileobj() \u001b[94mas\u001b[0m fileobj:                                               \u001b[31m│\u001b[0m\n",
       "\u001b[31m│\u001b[0m   \u001b[2m318 \u001b[0m\u001b[2m│   │   │   \u001b[0m\u001b[94mreturn\u001b[0m fileslice(fileobj,                                                      \u001b[31m│\u001b[0m\n",
       "\u001b[31m│\u001b[0m   \u001b[2m319 \u001b[0m\u001b[2m│   │   │   │   │   │   │    \u001b[0mslicer,                                                       \u001b[31m│\u001b[0m\n",
       "\u001b[31m│\u001b[0m                                                                                                  \u001b[31m│\u001b[0m\n",
       "\u001b[31m│\u001b[0m \u001b[2;33m/opt/conda/lib/python3.7/site-packages/nibabel/\u001b[0m\u001b[1;33mvolumeutils.py\u001b[0m:\u001b[94m461\u001b[0m in \u001b[92marray_from_file\u001b[0m             \u001b[31m│\u001b[0m\n",
       "\u001b[31m│\u001b[0m                                                                                                  \u001b[31m│\u001b[0m\n",
       "\u001b[31m│\u001b[0m   \u001b[2m 458 \u001b[0m\u001b[2m│   \u001b[0minfile.seek(offset)                                                                   \u001b[31m│\u001b[0m\n",
       "\u001b[31m│\u001b[0m   \u001b[2m 459 \u001b[0m\u001b[2m│   \u001b[0m\u001b[94mif\u001b[0m \u001b[96mhasattr\u001b[0m(infile, \u001b[33m'\u001b[0m\u001b[33mreadinto\u001b[0m\u001b[33m'\u001b[0m):                                                       \u001b[31m│\u001b[0m\n",
       "\u001b[31m│\u001b[0m   \u001b[2m 460 \u001b[0m\u001b[2m│   │   \u001b[0mdata_bytes = \u001b[96mbytearray\u001b[0m(n_bytes)                                                   \u001b[31m│\u001b[0m\n",
       "\u001b[31m│\u001b[0m \u001b[31m❱ \u001b[0m 461 \u001b[2m│   │   \u001b[0mn_read = infile.readinto(data_bytes)                                              \u001b[31m│\u001b[0m\n",
       "\u001b[31m│\u001b[0m   \u001b[2m 462 \u001b[0m\u001b[2m│   │   \u001b[0mneeds_copy = \u001b[94mFalse\u001b[0m                                                                \u001b[31m│\u001b[0m\n",
       "\u001b[31m│\u001b[0m   \u001b[2m 463 \u001b[0m\u001b[2m│   \u001b[0m\u001b[94melse\u001b[0m:                                                                                 \u001b[31m│\u001b[0m\n",
       "\u001b[31m│\u001b[0m   \u001b[2m 464 \u001b[0m\u001b[2m│   │   \u001b[0mdata_bytes = infile.read(n_bytes)                                                 \u001b[31m│\u001b[0m\n",
       "\u001b[31m│\u001b[0m                                                                                                  \u001b[31m│\u001b[0m\n",
       "\u001b[31m│\u001b[0m \u001b[2;33m/opt/conda/lib/python3.7/\u001b[0m\u001b[1;33mgzip.py\u001b[0m:\u001b[94m287\u001b[0m in \u001b[92mread\u001b[0m                                                     \u001b[31m│\u001b[0m\n",
       "\u001b[31m│\u001b[0m                                                                                                  \u001b[31m│\u001b[0m\n",
       "\u001b[31m│\u001b[0m   \u001b[2m284 \u001b[0m\u001b[2m│   │   \u001b[0m\u001b[94mif\u001b[0m \u001b[96mself\u001b[0m.mode != READ:                                                              \u001b[31m│\u001b[0m\n",
       "\u001b[31m│\u001b[0m   \u001b[2m285 \u001b[0m\u001b[2m│   │   │   \u001b[0m\u001b[94mimport\u001b[0m \u001b[4;96merrno\u001b[0m                                                                   \u001b[31m│\u001b[0m\n",
       "\u001b[31m│\u001b[0m   \u001b[2m286 \u001b[0m\u001b[2m│   │   │   \u001b[0m\u001b[94mraise\u001b[0m \u001b[96mOSError\u001b[0m(errno.EBADF, \u001b[33m\"\u001b[0m\u001b[33mread() on write-only GzipFile object\u001b[0m\u001b[33m\"\u001b[0m)             \u001b[31m│\u001b[0m\n",
       "\u001b[31m│\u001b[0m \u001b[31m❱ \u001b[0m287 \u001b[2m│   │   \u001b[0m\u001b[94mreturn\u001b[0m \u001b[96mself\u001b[0m._buffer.read(size)                                                     \u001b[31m│\u001b[0m\n",
       "\u001b[31m│\u001b[0m   \u001b[2m288 \u001b[0m\u001b[2m│   \u001b[0m                                                                                       \u001b[31m│\u001b[0m\n",
       "\u001b[31m│\u001b[0m   \u001b[2m289 \u001b[0m\u001b[2m│   \u001b[0m\u001b[94mdef\u001b[0m \u001b[92mread1\u001b[0m(\u001b[96mself\u001b[0m, size=-\u001b[94m1\u001b[0m):                                                              \u001b[31m│\u001b[0m\n",
       "\u001b[31m│\u001b[0m   \u001b[2m290 \u001b[0m\u001b[2m│   │   \u001b[0m\u001b[33m\"\"\"Implements BufferedIOBase.read1()\u001b[0m                                               \u001b[31m│\u001b[0m\n",
       "\u001b[31m│\u001b[0m                                                                                                  \u001b[31m│\u001b[0m\n",
       "\u001b[31m│\u001b[0m \u001b[2;33m/opt/conda/lib/python3.7/\u001b[0m\u001b[1;33m_compression.py\u001b[0m:\u001b[94m68\u001b[0m in \u001b[92mreadinto\u001b[0m                                          \u001b[31m│\u001b[0m\n",
       "\u001b[31m│\u001b[0m                                                                                                  \u001b[31m│\u001b[0m\n",
       "\u001b[31m│\u001b[0m   \u001b[2m 65 \u001b[0m\u001b[2m│   \u001b[0m                                                                                       \u001b[31m│\u001b[0m\n",
       "\u001b[31m│\u001b[0m   \u001b[2m 66 \u001b[0m\u001b[2m│   \u001b[0m\u001b[94mdef\u001b[0m \u001b[92mreadinto\u001b[0m(\u001b[96mself\u001b[0m, b):                                                                 \u001b[31m│\u001b[0m\n",
       "\u001b[31m│\u001b[0m   \u001b[2m 67 \u001b[0m\u001b[2m│   │   \u001b[0m\u001b[94mwith\u001b[0m \u001b[96mmemoryview\u001b[0m(b) \u001b[94mas\u001b[0m view, view.cast(\u001b[33m\"\u001b[0m\u001b[33mB\u001b[0m\u001b[33m\"\u001b[0m) \u001b[94mas\u001b[0m byte_view:                           \u001b[31m│\u001b[0m\n",
       "\u001b[31m│\u001b[0m \u001b[31m❱ \u001b[0m 68 \u001b[2m│   │   │   \u001b[0mdata = \u001b[96mself\u001b[0m.read(\u001b[96mlen\u001b[0m(byte_view))                                               \u001b[31m│\u001b[0m\n",
       "\u001b[31m│\u001b[0m   \u001b[2m 69 \u001b[0m\u001b[2m│   │   │   \u001b[0mbyte_view[:\u001b[96mlen\u001b[0m(data)] = data                                                   \u001b[31m│\u001b[0m\n",
       "\u001b[31m│\u001b[0m   \u001b[2m 70 \u001b[0m\u001b[2m│   │   \u001b[0m\u001b[94mreturn\u001b[0m \u001b[96mlen\u001b[0m(data)                                                                   \u001b[31m│\u001b[0m\n",
       "\u001b[31m│\u001b[0m   \u001b[2m 71 \u001b[0m                                                                                           \u001b[31m│\u001b[0m\n",
       "\u001b[31m│\u001b[0m                                                                                                  \u001b[31m│\u001b[0m\n",
       "\u001b[31m│\u001b[0m \u001b[2;33m/opt/conda/lib/python3.7/\u001b[0m\u001b[1;33mgzip.py\u001b[0m:\u001b[94m496\u001b[0m in \u001b[92mread\u001b[0m                                                     \u001b[31m│\u001b[0m\n",
       "\u001b[31m│\u001b[0m                                                                                                  \u001b[31m│\u001b[0m\n",
       "\u001b[31m│\u001b[0m   \u001b[2m493 \u001b[0m\u001b[2m│   │   │   │   \u001b[0m\u001b[94mraise\u001b[0m \u001b[96mEOFError\u001b[0m(\u001b[33m\"\u001b[0m\u001b[33mCompressed file ended before the \u001b[0m\u001b[33m\"\u001b[0m                         \u001b[31m│\u001b[0m\n",
       "\u001b[31m│\u001b[0m   \u001b[2m494 \u001b[0m\u001b[2m│   │   │   │   │   │   │      \u001b[0m\u001b[33m\"\u001b[0m\u001b[33mend-of-stream marker was reached\u001b[0m\u001b[33m\"\u001b[0m)                         \u001b[31m│\u001b[0m\n",
       "\u001b[31m│\u001b[0m   \u001b[2m495 \u001b[0m\u001b[2m│   │   \u001b[0m                                                                                   \u001b[31m│\u001b[0m\n",
       "\u001b[31m│\u001b[0m \u001b[31m❱ \u001b[0m496 \u001b[2m│   │   \u001b[0m\u001b[96mself\u001b[0m._add_read_data( uncompress )                                                  \u001b[31m│\u001b[0m\n",
       "\u001b[31m│\u001b[0m   \u001b[2m497 \u001b[0m\u001b[2m│   │   \u001b[0m\u001b[96mself\u001b[0m._pos += \u001b[96mlen\u001b[0m(uncompress)                                                       \u001b[31m│\u001b[0m\n",
       "\u001b[31m│\u001b[0m   \u001b[2m498 \u001b[0m\u001b[2m│   │   \u001b[0m\u001b[94mreturn\u001b[0m uncompress                                                                  \u001b[31m│\u001b[0m\n",
       "\u001b[31m│\u001b[0m   \u001b[2m499 \u001b[0m                                                                                           \u001b[31m│\u001b[0m\n",
       "\u001b[31m│\u001b[0m                                                                                                  \u001b[31m│\u001b[0m\n",
       "\u001b[31m│\u001b[0m \u001b[2;33m/opt/conda/lib/python3.7/\u001b[0m\u001b[1;33mgzip.py\u001b[0m:\u001b[94m501\u001b[0m in \u001b[92m_add_read_data\u001b[0m                                           \u001b[31m│\u001b[0m\n",
       "\u001b[31m│\u001b[0m                                                                                                  \u001b[31m│\u001b[0m\n",
       "\u001b[31m│\u001b[0m   \u001b[2m498 \u001b[0m\u001b[2m│   │   \u001b[0m\u001b[94mreturn\u001b[0m uncompress                                                                  \u001b[31m│\u001b[0m\n",
       "\u001b[31m│\u001b[0m   \u001b[2m499 \u001b[0m\u001b[2m│   \u001b[0m                                                                                       \u001b[31m│\u001b[0m\n",
       "\u001b[31m│\u001b[0m   \u001b[2m500 \u001b[0m\u001b[2m│   \u001b[0m\u001b[94mdef\u001b[0m \u001b[92m_add_read_data\u001b[0m(\u001b[96mself\u001b[0m, data):                                                        \u001b[31m│\u001b[0m\n",
       "\u001b[31m│\u001b[0m \u001b[31m❱ \u001b[0m501 \u001b[2m│   │   \u001b[0m\u001b[96mself\u001b[0m._crc = zlib.crc32(data, \u001b[96mself\u001b[0m._crc)                                            \u001b[31m│\u001b[0m\n",
       "\u001b[31m│\u001b[0m   \u001b[2m502 \u001b[0m\u001b[2m│   │   \u001b[0m\u001b[96mself\u001b[0m._stream_size = \u001b[96mself\u001b[0m._stream_size + \u001b[96mlen\u001b[0m(data)                                  \u001b[31m│\u001b[0m\n",
       "\u001b[31m│\u001b[0m   \u001b[2m503 \u001b[0m\u001b[2m│   \u001b[0m                                                                                       \u001b[31m│\u001b[0m\n",
       "\u001b[31m│\u001b[0m   \u001b[2m504 \u001b[0m\u001b[2m│   \u001b[0m\u001b[94mdef\u001b[0m \u001b[92m_read_eof\u001b[0m(\u001b[96mself\u001b[0m):                                                                   \u001b[31m│\u001b[0m\n",
       "\u001b[31m╰──────────────────────────────────────────────────────────────────────────────────────────────────╯\u001b[0m\n",
       "\u001b[1;91mKeyboardInterrupt\u001b[0m\n"
      ]
     },
     "metadata": {},
     "output_type": "display_data"
    }
   ],
   "source": [
    "for i in data_path:\n",
    "    img = read_nii(i)\n",
    "    print(f'task {i.split(\"/\")[-3]} image shape is {img.shape}')"
   ]
  },
  {
   "cell_type": "code",
   "execution_count": 6,
   "metadata": {},
   "outputs": [
    {
     "name": "stdout",
     "output_type": "stream",
     "text": [
      "Thu Apr 20 11:06:21 2023       \n",
      "+-----------------------------------------------------------------------------+\n",
      "| NVIDIA-SMI 470.63.01    Driver Version: 470.63.01    CUDA Version: 11.4     |\n",
      "|-------------------------------+----------------------+----------------------+\n",
      "| GPU  Name        Persistence-M| Bus-Id        Disp.A | Volatile Uncorr. ECC |\n",
      "| Fan  Temp  Perf  Pwr:Usage/Cap|         Memory-Usage | GPU-Util  Compute M. |\n",
      "|                               |                      |               MIG M. |\n",
      "|===============================+======================+======================|\n",
      "|   0  NVIDIA GeForce ...  Off  | 00000000:1A:00.0 Off |                  N/A |\n",
      "| 24%   49C    P2   218W / 250W |   6047MiB / 11178MiB |     95%      Default |\n",
      "|                               |                      |                  N/A |\n",
      "+-------------------------------+----------------------+----------------------+\n",
      "|   1  NVIDIA GeForce ...  Off  | 00000000:1B:00.0 Off |                  N/A |\n",
      "| 23%   60C    P2   134W / 250W |   5259MiB / 11178MiB |     91%      Default |\n",
      "|                               |                      |                  N/A |\n",
      "+-------------------------------+----------------------+----------------------+\n",
      "                                                                               \n",
      "+-----------------------------------------------------------------------------+\n",
      "| Processes:                                                                  |\n",
      "|  GPU   GI   CI        PID   Type   Process name                  GPU Memory |\n",
      "|        ID   ID                                                   Usage      |\n",
      "|=============================================================================|\n",
      "+-----------------------------------------------------------------------------+\n"
     ]
    }
   ],
   "source": [
    "!nvidia-smi"
   ]
  },
  {
   "cell_type": "code",
   "execution_count": 1,
   "metadata": {},
   "outputs": [],
   "source": [
    "import os \n",
    "import torch"
   ]
  },
  {
   "cell_type": "code",
   "execution_count": 3,
   "metadata": {},
   "outputs": [],
   "source": [
    "weights = torch.load('/data/ydchen/EM_pretraining_data/BarlowClip/testgenerate_then_optimize_pretrain_7000_iterations_encoder.pth',\n",
    "                     map_location=torch.device('cpu'))"
   ]
  },
  {
   "cell_type": "code",
   "execution_count": 5,
   "metadata": {},
   "outputs": [
    {
     "data": {
      "text/plain": [
       "odict_keys(['conv1.weight', 'bn1.weight', 'bn1.bias', 'bn1.running_mean', 'bn1.running_var', 'bn1.num_batches_tracked', 'layer1.0.conv1.weight', 'layer1.0.bn1.weight', 'layer1.0.bn1.bias', 'layer1.0.bn1.running_mean', 'layer1.0.bn1.running_var', 'layer1.0.bn1.num_batches_tracked', 'layer1.0.conv2.weight', 'layer1.0.bn2.weight', 'layer1.0.bn2.bias', 'layer1.0.bn2.running_mean', 'layer1.0.bn2.running_var', 'layer1.0.bn2.num_batches_tracked', 'layer1.0.conv3.weight', 'layer1.0.bn3.weight', 'layer1.0.bn3.bias', 'layer1.0.bn3.running_mean', 'layer1.0.bn3.running_var', 'layer1.0.bn3.num_batches_tracked', 'layer1.0.downsample.0.weight', 'layer1.0.downsample.1.weight', 'layer1.0.downsample.1.bias', 'layer1.0.downsample.1.running_mean', 'layer1.0.downsample.1.running_var', 'layer1.0.downsample.1.num_batches_tracked', 'layer1.1.conv1.weight', 'layer1.1.bn1.weight', 'layer1.1.bn1.bias', 'layer1.1.bn1.running_mean', 'layer1.1.bn1.running_var', 'layer1.1.bn1.num_batches_tracked', 'layer1.1.conv2.weight', 'layer1.1.bn2.weight', 'layer1.1.bn2.bias', 'layer1.1.bn2.running_mean', 'layer1.1.bn2.running_var', 'layer1.1.bn2.num_batches_tracked', 'layer1.1.conv3.weight', 'layer1.1.bn3.weight', 'layer1.1.bn3.bias', 'layer1.1.bn3.running_mean', 'layer1.1.bn3.running_var', 'layer1.1.bn3.num_batches_tracked', 'layer1.2.conv1.weight', 'layer1.2.bn1.weight', 'layer1.2.bn1.bias', 'layer1.2.bn1.running_mean', 'layer1.2.bn1.running_var', 'layer1.2.bn1.num_batches_tracked', 'layer1.2.conv2.weight', 'layer1.2.bn2.weight', 'layer1.2.bn2.bias', 'layer1.2.bn2.running_mean', 'layer1.2.bn2.running_var', 'layer1.2.bn2.num_batches_tracked', 'layer1.2.conv3.weight', 'layer1.2.bn3.weight', 'layer1.2.bn3.bias', 'layer1.2.bn3.running_mean', 'layer1.2.bn3.running_var', 'layer1.2.bn3.num_batches_tracked', 'layer2.0.conv1.weight', 'layer2.0.bn1.weight', 'layer2.0.bn1.bias', 'layer2.0.bn1.running_mean', 'layer2.0.bn1.running_var', 'layer2.0.bn1.num_batches_tracked', 'layer2.0.conv2.weight', 'layer2.0.bn2.weight', 'layer2.0.bn2.bias', 'layer2.0.bn2.running_mean', 'layer2.0.bn2.running_var', 'layer2.0.bn2.num_batches_tracked', 'layer2.0.conv3.weight', 'layer2.0.bn3.weight', 'layer2.0.bn3.bias', 'layer2.0.bn3.running_mean', 'layer2.0.bn3.running_var', 'layer2.0.bn3.num_batches_tracked', 'layer2.0.downsample.0.weight', 'layer2.0.downsample.1.weight', 'layer2.0.downsample.1.bias', 'layer2.0.downsample.1.running_mean', 'layer2.0.downsample.1.running_var', 'layer2.0.downsample.1.num_batches_tracked', 'layer2.1.conv1.weight', 'layer2.1.bn1.weight', 'layer2.1.bn1.bias', 'layer2.1.bn1.running_mean', 'layer2.1.bn1.running_var', 'layer2.1.bn1.num_batches_tracked', 'layer2.1.conv2.weight', 'layer2.1.bn2.weight', 'layer2.1.bn2.bias', 'layer2.1.bn2.running_mean', 'layer2.1.bn2.running_var', 'layer2.1.bn2.num_batches_tracked', 'layer2.1.conv3.weight', 'layer2.1.bn3.weight', 'layer2.1.bn3.bias', 'layer2.1.bn3.running_mean', 'layer2.1.bn3.running_var', 'layer2.1.bn3.num_batches_tracked', 'layer2.2.conv1.weight', 'layer2.2.bn1.weight', 'layer2.2.bn1.bias', 'layer2.2.bn1.running_mean', 'layer2.2.bn1.running_var', 'layer2.2.bn1.num_batches_tracked', 'layer2.2.conv2.weight', 'layer2.2.bn2.weight', 'layer2.2.bn2.bias', 'layer2.2.bn2.running_mean', 'layer2.2.bn2.running_var', 'layer2.2.bn2.num_batches_tracked', 'layer2.2.conv3.weight', 'layer2.2.bn3.weight', 'layer2.2.bn3.bias', 'layer2.2.bn3.running_mean', 'layer2.2.bn3.running_var', 'layer2.2.bn3.num_batches_tracked', 'layer2.3.conv1.weight', 'layer2.3.bn1.weight', 'layer2.3.bn1.bias', 'layer2.3.bn1.running_mean', 'layer2.3.bn1.running_var', 'layer2.3.bn1.num_batches_tracked', 'layer2.3.conv2.weight', 'layer2.3.bn2.weight', 'layer2.3.bn2.bias', 'layer2.3.bn2.running_mean', 'layer2.3.bn2.running_var', 'layer2.3.bn2.num_batches_tracked', 'layer2.3.conv3.weight', 'layer2.3.bn3.weight', 'layer2.3.bn3.bias', 'layer2.3.bn3.running_mean', 'layer2.3.bn3.running_var', 'layer2.3.bn3.num_batches_tracked', 'layer3.0.conv1.weight', 'layer3.0.bn1.weight', 'layer3.0.bn1.bias', 'layer3.0.bn1.running_mean', 'layer3.0.bn1.running_var', 'layer3.0.bn1.num_batches_tracked', 'layer3.0.conv2.weight', 'layer3.0.bn2.weight', 'layer3.0.bn2.bias', 'layer3.0.bn2.running_mean', 'layer3.0.bn2.running_var', 'layer3.0.bn2.num_batches_tracked', 'layer3.0.conv3.weight', 'layer3.0.bn3.weight', 'layer3.0.bn3.bias', 'layer3.0.bn3.running_mean', 'layer3.0.bn3.running_var', 'layer3.0.bn3.num_batches_tracked', 'layer3.0.downsample.0.weight', 'layer3.0.downsample.1.weight', 'layer3.0.downsample.1.bias', 'layer3.0.downsample.1.running_mean', 'layer3.0.downsample.1.running_var', 'layer3.0.downsample.1.num_batches_tracked', 'layer3.1.conv1.weight', 'layer3.1.bn1.weight', 'layer3.1.bn1.bias', 'layer3.1.bn1.running_mean', 'layer3.1.bn1.running_var', 'layer3.1.bn1.num_batches_tracked', 'layer3.1.conv2.weight', 'layer3.1.bn2.weight', 'layer3.1.bn2.bias', 'layer3.1.bn2.running_mean', 'layer3.1.bn2.running_var', 'layer3.1.bn2.num_batches_tracked', 'layer3.1.conv3.weight', 'layer3.1.bn3.weight', 'layer3.1.bn3.bias', 'layer3.1.bn3.running_mean', 'layer3.1.bn3.running_var', 'layer3.1.bn3.num_batches_tracked', 'layer3.2.conv1.weight', 'layer3.2.bn1.weight', 'layer3.2.bn1.bias', 'layer3.2.bn1.running_mean', 'layer3.2.bn1.running_var', 'layer3.2.bn1.num_batches_tracked', 'layer3.2.conv2.weight', 'layer3.2.bn2.weight', 'layer3.2.bn2.bias', 'layer3.2.bn2.running_mean', 'layer3.2.bn2.running_var', 'layer3.2.bn2.num_batches_tracked', 'layer3.2.conv3.weight', 'layer3.2.bn3.weight', 'layer3.2.bn3.bias', 'layer3.2.bn3.running_mean', 'layer3.2.bn3.running_var', 'layer3.2.bn3.num_batches_tracked', 'layer3.3.conv1.weight', 'layer3.3.bn1.weight', 'layer3.3.bn1.bias', 'layer3.3.bn1.running_mean', 'layer3.3.bn1.running_var', 'layer3.3.bn1.num_batches_tracked', 'layer3.3.conv2.weight', 'layer3.3.bn2.weight', 'layer3.3.bn2.bias', 'layer3.3.bn2.running_mean', 'layer3.3.bn2.running_var', 'layer3.3.bn2.num_batches_tracked', 'layer3.3.conv3.weight', 'layer3.3.bn3.weight', 'layer3.3.bn3.bias', 'layer3.3.bn3.running_mean', 'layer3.3.bn3.running_var', 'layer3.3.bn3.num_batches_tracked', 'layer3.4.conv1.weight', 'layer3.4.bn1.weight', 'layer3.4.bn1.bias', 'layer3.4.bn1.running_mean', 'layer3.4.bn1.running_var', 'layer3.4.bn1.num_batches_tracked', 'layer3.4.conv2.weight', 'layer3.4.bn2.weight', 'layer3.4.bn2.bias', 'layer3.4.bn2.running_mean', 'layer3.4.bn2.running_var', 'layer3.4.bn2.num_batches_tracked', 'layer3.4.conv3.weight', 'layer3.4.bn3.weight', 'layer3.4.bn3.bias', 'layer3.4.bn3.running_mean', 'layer3.4.bn3.running_var', 'layer3.4.bn3.num_batches_tracked', 'layer3.5.conv1.weight', 'layer3.5.bn1.weight', 'layer3.5.bn1.bias', 'layer3.5.bn1.running_mean', 'layer3.5.bn1.running_var', 'layer3.5.bn1.num_batches_tracked', 'layer3.5.conv2.weight', 'layer3.5.bn2.weight', 'layer3.5.bn2.bias', 'layer3.5.bn2.running_mean', 'layer3.5.bn2.running_var', 'layer3.5.bn2.num_batches_tracked', 'layer3.5.conv3.weight', 'layer3.5.bn3.weight', 'layer3.5.bn3.bias', 'layer3.5.bn3.running_mean', 'layer3.5.bn3.running_var', 'layer3.5.bn3.num_batches_tracked', 'layer4.0.conv1.weight', 'layer4.0.bn1.weight', 'layer4.0.bn1.bias', 'layer4.0.bn1.running_mean', 'layer4.0.bn1.running_var', 'layer4.0.bn1.num_batches_tracked', 'layer4.0.conv2.weight', 'layer4.0.bn2.weight', 'layer4.0.bn2.bias', 'layer4.0.bn2.running_mean', 'layer4.0.bn2.running_var', 'layer4.0.bn2.num_batches_tracked', 'layer4.0.conv3.weight', 'layer4.0.bn3.weight', 'layer4.0.bn3.bias', 'layer4.0.bn3.running_mean', 'layer4.0.bn3.running_var', 'layer4.0.bn3.num_batches_tracked', 'layer4.0.downsample.0.weight', 'layer4.0.downsample.1.weight', 'layer4.0.downsample.1.bias', 'layer4.0.downsample.1.running_mean', 'layer4.0.downsample.1.running_var', 'layer4.0.downsample.1.num_batches_tracked', 'layer4.1.conv1.weight', 'layer4.1.bn1.weight', 'layer4.1.bn1.bias', 'layer4.1.bn1.running_mean', 'layer4.1.bn1.running_var', 'layer4.1.bn1.num_batches_tracked', 'layer4.1.conv2.weight', 'layer4.1.bn2.weight', 'layer4.1.bn2.bias', 'layer4.1.bn2.running_mean', 'layer4.1.bn2.running_var', 'layer4.1.bn2.num_batches_tracked', 'layer4.1.conv3.weight', 'layer4.1.bn3.weight', 'layer4.1.bn3.bias', 'layer4.1.bn3.running_mean', 'layer4.1.bn3.running_var', 'layer4.1.bn3.num_batches_tracked', 'layer4.2.conv1.weight', 'layer4.2.bn1.weight', 'layer4.2.bn1.bias', 'layer4.2.bn1.running_mean', 'layer4.2.bn1.running_var', 'layer4.2.bn1.num_batches_tracked', 'layer4.2.conv2.weight', 'layer4.2.bn2.weight', 'layer4.2.bn2.bias', 'layer4.2.bn2.running_mean', 'layer4.2.bn2.running_var', 'layer4.2.bn2.num_batches_tracked', 'layer4.2.conv3.weight', 'layer4.2.bn3.weight', 'layer4.2.bn3.bias', 'layer4.2.bn3.running_mean', 'layer4.2.bn3.running_var', 'layer4.2.bn3.num_batches_tracked'])"
      ]
     },
     "execution_count": 5,
     "metadata": {},
     "output_type": "execute_result"
    }
   ],
   "source": [
    "weights.keys()"
   ]
  },
  {
   "cell_type": "code",
   "execution_count": null,
   "metadata": {},
   "outputs": [],
   "source": []
  }
 ],
 "metadata": {
  "kernelspec": {
   "display_name": "base",
   "language": "python",
   "name": "python3"
  },
  "language_info": {
   "codemirror_mode": {
    "name": "ipython",
    "version": 3
   },
   "file_extension": ".py",
   "mimetype": "text/x-python",
   "name": "python",
   "nbconvert_exporter": "python",
   "pygments_lexer": "ipython3",
   "version": "3.7.13"
  },
  "orig_nbformat": 4
 },
 "nbformat": 4,
 "nbformat_minor": 2
}
